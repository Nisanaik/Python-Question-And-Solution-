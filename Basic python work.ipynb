{
 "cells": [
  {
   "cell_type": "markdown",
   "id": "06d984d2",
   "metadata": {},
   "source": [
    "# Dictionaries "
   ]
  },
  {
   "cell_type": "markdown",
   "id": "894f723a",
   "metadata": {},
   "source": [
    "# Q1. Consider the following Dictionary, print the keys and values of it."
   ]
  },
  {
   "cell_type": "code",
   "execution_count": 17,
   "id": "c3223be2",
   "metadata": {},
   "outputs": [],
   "source": [
    "favorite_car = {\n",
    "    'Brand' : 'Mercedes',\n",
    "    'Model' : 'Mercedes Benz EQS',\n",
    "    'Year' : 2020,\n",
    "    'Price' : '1.5 Cr'    \n",
    "}"
   ]
  },
  {
   "cell_type": "code",
   "execution_count": 18,
   "id": "4b3c10a8",
   "metadata": {},
   "outputs": [
    {
     "name": "stdout",
     "output_type": "stream",
     "text": [
      "dict_keys(['Brand', 'Model', 'Year', 'Price'])\n",
      "dict_values(['Mercedes', 'Mercedes Benz EQS', 2020, '1.5 Cr'])\n"
     ]
    }
   ],
   "source": [
    "print(favorite_car.keys())\n",
    "print(favorite_car.values())"
   ]
  },
  {
   "cell_type": "markdown",
   "id": "c75f8194",
   "metadata": {},
   "source": [
    "# Q2. Change the Model of the Car to `AMG A 35`."
   ]
  },
  {
   "cell_type": "code",
   "execution_count": 19,
   "id": "7f251072",
   "metadata": {},
   "outputs": [
    {
     "name": "stdout",
     "output_type": "stream",
     "text": [
      "{'Brand': 'Mercedes', 'Model': 'AMG A 35', 'Year': 2020, 'Price': '1.5 Cr'}\n"
     ]
    }
   ],
   "source": [
    "favorite_car['Model'] = 'AMG A 35'\n",
    "print(favorite_car)"
   ]
  },
  {
   "cell_type": "markdown",
   "id": "4f78912e",
   "metadata": {},
   "source": [
    "# Q3. Add the following dictionary to `favorite_car` dictionary."
   ]
  },
  {
   "cell_type": "code",
   "execution_count": 20,
   "id": "ecbe2c14",
   "metadata": {},
   "outputs": [],
   "source": [
    "info_on_fav_car = {\n",
    "    'Type' : 'Sedan',\n",
    "    'Top Speed' : '250 km/h',\n",
    "    'Colour' : 'Black'\n",
    "}"
   ]
  },
  {
   "cell_type": "code",
   "execution_count": 5,
   "id": "29a088ae",
   "metadata": {},
   "outputs": [
    {
     "name": "stdout",
     "output_type": "stream",
     "text": [
      "{'Brand': 'Mercedes', 'Model': 'AMG A 35', 'Year': 2020, 'Price': '1.5 Cr', 'Type': 'Sedan', 'Top Speed': '250 km/h', 'Colour': 'Black'}\n"
     ]
    }
   ],
   "source": [
    "favorite_car.update(info_on_fav_car)\n",
    "print(favorite_car)\n"
   ]
  },
  {
   "cell_type": "markdown",
   "id": "d7cbc49b",
   "metadata": {},
   "source": [
    "# Q4. Change Brad's Salary to 8500 from the following dictionary.\n"
   ]
  },
  {
   "cell_type": "code",
   "execution_count": 6,
   "id": "9df01871",
   "metadata": {},
   "outputs": [],
   "source": [
    "nested_dict = {\n",
    "    'Emp1': {\n",
    "        'Name': 'Tom',\n",
    "        'Salary': 7500\n",
    "    },\n",
    "    'Emp2': {\n",
    "        'Name': 'Emma', \n",
    "        'Salary': 8000\n",
    "    },\n",
    "    'Emp3': {\n",
    "        'Name': 'Brad', \n",
    "        'Salary': 500\n",
    "    }\n",
    "}"
   ]
  },
  {
   "cell_type": "code",
   "execution_count": 7,
   "id": "28826b60",
   "metadata": {},
   "outputs": [
    {
     "name": "stdout",
     "output_type": "stream",
     "text": [
      "{'Emp1': {'Name': 'Tom', 'Salary': 7500}, 'Emp2': {'Name': 'Emma', 'Salary': 8000}, 'Emp3': {'Name': 'Brad', 'Salary': 8500}}\n"
     ]
    }
   ],
   "source": [
    "nested_dict['Emp3']['Salary']=8500\n",
    "print(nested_dict)"
   ]
  },
  {
   "cell_type": "markdown",
   "id": "ef7a8de5",
   "metadata": {},
   "source": [
    "# Q5. Find the Customers who are subscribed from the given List of dictionaries and add them to a new list of dictionaries."
   ]
  },
  {
   "cell_type": "code",
   "execution_count": 8,
   "id": "a0dca183",
   "metadata": {},
   "outputs": [
    {
     "data": {
      "text/plain": [
       "[{'customer1': {'Name': 'John', 'Age': 38, 'Subscribed': 'Yes'},\n",
       "  'customer2': {'Name': 'Jack', 'Age': 33, 'Subscribed': 'No'},\n",
       "  'customer3': {'Name': 'Jimmy', 'Age': 45, 'Subscribed': 'No'},\n",
       "  'customer4': {'Name': 'Jane', 'Age': 28, 'Subscribed': 'Yes'},\n",
       "  'customer5': {'Name': 'Jeremy', 'Age': 35, 'Subscribed': 'Yes'}}]"
      ]
     },
     "execution_count": 8,
     "metadata": {},
     "output_type": "execute_result"
    }
   ],
   "source": [
    "customers = [{\n",
    "    'customer1' : {\n",
    "        'Name' : 'John',\n",
    "        'Age' : 38,\n",
    "        'Subscribed' : 'Yes'\n",
    "    },\n",
    "    'customer2' : {\n",
    "        'Name' : 'Jack',\n",
    "        'Age' : 33,\n",
    "        'Subscribed' : 'No'\n",
    "    },\n",
    "    'customer3' : {\n",
    "        'Name' : 'Jimmy',\n",
    "        'Age' : 45,\n",
    "        'Subscribed' : 'No'\n",
    "    },\n",
    "    'customer4' : {\n",
    "        'Name' : 'Jane',\n",
    "        'Age' : 28,\n",
    "        'Subscribed' : 'Yes'\n",
    "    },\n",
    "    'customer5' : {\n",
    "        'Name' : 'Jeremy',\n",
    "        'Age' : 35,\n",
    "        'Subscribed' : 'Yes'\n",
    "    }\n",
    "}]\n",
    "\n",
    "customers"
   ]
  },
  {
   "cell_type": "code",
   "execution_count": 9,
   "id": "ee30788b",
   "metadata": {},
   "outputs": [
    {
     "data": {
      "text/plain": [
       "[{'Name': 'John', 'Age': 38, 'Subscribed': 'Yes'},\n",
       " {'Name': 'Jane', 'Age': 28, 'Subscribed': 'Yes'},\n",
       " {'Name': 'Jeremy', 'Age': 35, 'Subscribed': 'Yes'}]"
      ]
     },
     "execution_count": 9,
     "metadata": {},
     "output_type": "execute_result"
    }
   ],
   "source": [
    "subscribed_customers= []\n",
    "\n",
    "for key in customers[0].keys():\n",
    "    if customers[0][key]['Subscribed'] == 'Yes':\n",
    "        subscribed_customers.append(customers[0][key])\n",
    "subscribed_customers"
   ]
  },
  {
   "cell_type": "code",
   "execution_count": 10,
   "id": "9a503d57",
   "metadata": {},
   "outputs": [
    {
     "data": {
      "text/plain": [
       "[{'Name': 'Jack', 'Age': 33, 'Subscribed': 'No'},\n",
       " {'Name': 'Jimmy', 'Age': 45, 'Subscribed': 'No'}]"
      ]
     },
     "execution_count": 10,
     "metadata": {},
     "output_type": "execute_result"
    }
   ],
   "source": [
    "subscribed_customers= []\n",
    "\n",
    "for key in customers[0].keys():\n",
    "    if customers[0][key]['Subscribed'] == 'No':\n",
    "        subscribed_customers.append(customers[0][key])\n",
    "subscribed_customers"
   ]
  },
  {
   "cell_type": "markdown",
   "id": "aacf2ce7",
   "metadata": {},
   "source": [
    "# For loop"
   ]
  },
  {
   "cell_type": "markdown",
   "id": "175949a9",
   "metadata": {},
   "source": [
    "# Q1. Print each fruit in the given list of `fruits` using a `for loop`."
   ]
  },
  {
   "cell_type": "code",
   "execution_count": 1,
   "id": "ff9d07ef",
   "metadata": {},
   "outputs": [
    {
     "name": "stdout",
     "output_type": "stream",
     "text": [
      "['Apple', 'Banana', 'Cherry', 'Orange', 'Kiwi', 'Papaya', 'Grape', 'Pineapple']\n"
     ]
    }
   ],
   "source": [
    "fruits = ['Apple', 'Banana', 'Cherry', 'Orange', 'Kiwi', 'Papaya', 'Grape', 'Pineapple']\n",
    "print(fruits)"
   ]
  },
  {
   "cell_type": "code",
   "execution_count": 3,
   "id": "34d507fa",
   "metadata": {},
   "outputs": [
    {
     "name": "stdout",
     "output_type": "stream",
     "text": [
      "['Apple', 'Banana', 'Cherry', 'Orange', 'Kiwi', 'Papaya', 'Grape', 'Pineapple']\n",
      "['Apple', 'Banana', 'Cherry', 'Orange', 'Kiwi', 'Papaya', 'Grape', 'Pineapple']\n",
      "['Apple', 'Banana', 'Cherry', 'Orange', 'Kiwi', 'Papaya', 'Grape', 'Pineapple']\n",
      "['Apple', 'Banana', 'Cherry', 'Orange', 'Kiwi', 'Papaya', 'Grape', 'Pineapple']\n",
      "['Apple', 'Banana', 'Cherry', 'Orange', 'Kiwi', 'Papaya', 'Grape', 'Pineapple']\n",
      "['Apple', 'Banana', 'Cherry', 'Orange', 'Kiwi', 'Papaya', 'Grape', 'Pineapple']\n",
      "['Apple', 'Banana', 'Cherry', 'Orange', 'Kiwi', 'Papaya', 'Grape', 'Pineapple']\n",
      "['Apple', 'Banana', 'Cherry', 'Orange', 'Kiwi', 'Papaya', 'Grape', 'Pineapple']\n"
     ]
    }
   ],
   "source": [
    "for fruit in fruits:\n",
    "    print(fruits)"
   ]
  },
  {
   "cell_type": "markdown",
   "id": "0719e71c",
   "metadata": {},
   "source": [
    "# Q2. Write a program to print the first 25 numbers using a for loop."
   ]
  },
  {
   "cell_type": "code",
   "execution_count": 14,
   "id": "c1542e9a",
   "metadata": {},
   "outputs": [
    {
     "name": "stdout",
     "output_type": "stream",
     "text": [
      "0\n",
      "1\n",
      "2\n",
      "3\n",
      "4\n",
      "5\n",
      "6\n",
      "7\n",
      "8\n",
      "9\n",
      "10\n",
      "11\n",
      "12\n",
      "13\n",
      "14\n",
      "15\n",
      "16\n",
      "17\n",
      "18\n",
      "19\n",
      "20\n",
      "21\n",
      "22\n",
      "23\n",
      "24\n"
     ]
    }
   ],
   "source": [
    " for number in range(25):\n",
    "    print(number)"
   ]
  },
  {
   "cell_type": "markdown",
   "id": "895f0fab",
   "metadata": {},
   "source": [
    "# Q3. Write a For Loop to print first 25 numbers and stop the loop at 15."
   ]
  },
  {
   "cell_type": "code",
   "execution_count": 15,
   "id": "27553426",
   "metadata": {},
   "outputs": [
    {
     "name": "stdout",
     "output_type": "stream",
     "text": [
      "0\n",
      "1\n",
      "2\n",
      "3\n",
      "4\n",
      "5\n",
      "6\n",
      "7\n",
      "8\n",
      "9\n",
      "10\n",
      "11\n",
      "12\n",
      "13\n",
      "14\n",
      "15\n"
     ]
    }
   ],
   "source": [
    "for num in range(25):\n",
    "    if num > 15:\n",
    "        break\n",
    "    print(num)"
   ]
  },
  {
   "cell_type": "markdown",
   "id": "9d372934",
   "metadata": {},
   "source": [
    "# Q4. Write a program to print the sum of first n integers where n is specified by the user.\n"
   ]
  },
  {
   "cell_type": "code",
   "execution_count": 23,
   "id": "d61911d5",
   "metadata": {},
   "outputs": [
    {
     "name": "stdout",
     "output_type": "stream",
     "text": [
      "Enter a first number: 34\n",
      "sum of the first  34 integer 595\n"
     ]
    }
   ],
   "source": [
    "n=int(input(\"Enter a first number: \"))\n",
    "x=0\n",
    "for number in range(1,n+1):\n",
    "    x +=number\n",
    "print(\"sum of the first \",n,\"integer\",x)\n"
   ]
  },
  {
   "cell_type": "markdown",
   "id": "584cd926",
   "metadata": {},
   "source": [
    "# Q5. Write a program to create a management system for a teacher to add marks for students in subjects : Maths, Physics and Chemistry."
   ]
  },
  {
   "cell_type": "code",
   "execution_count": 24,
   "id": "b1cdb4a1",
   "metadata": {},
   "outputs": [
    {
     "name": "stdout",
     "output_type": "stream",
     "text": [
      "\n",
      "Do you want to Add more data? (y/n) :y\n",
      "\n",
      "Enter the name of the Student: Nisa\n",
      "\n",
      " Enter the Roll no of the Student: 32\n",
      "Enter Mathematics marks: 90\n",
      "Enter Physics marks: 80\n",
      "Enter Chemisty marks: 85\n",
      "\n",
      "Do you want to see the data added so far? (y/n): n\n",
      "\n",
      "Do you want to Add more data? (y/n) :n\n",
      "\n",
      "Do you want to see the data added so far? (y/n):  n\n"
     ]
    }
   ],
   "source": [
    "student_marks_data = []\n",
    "for x in range(1000):\n",
    "    data = input('\\nDo you want to Add more data? (y/n) :')\n",
    "    if data == 'y':\n",
    "        name =input(\"\\nEnter the name of the Student: \")\n",
    "        roll_no = input(\"\\n Enter the Roll no of the Student: \")\n",
    "        maths = int(input(\"Enter Mathematics marks: \"))\n",
    "        phys = int(input(\"Enter Physics marks: \"))\n",
    "        chem = int(input(\"Enter Chemisty marks: \"))\n",
    "        \n",
    "        dictionary ={\n",
    "            'name' : name,\n",
    "            'roll no' : roll_no,\n",
    "            'maths' : maths,\n",
    "            'phys' : phys,\n",
    "            'chem' : chem\n",
    "        }\n",
    "        \n",
    "        student_marks_data.append(dictionary)\n",
    "        \n",
    "        print_or_not = input('\\nDo you want to see the data added so far? (y/n): ')\n",
    "        if print_or_not =='y':\n",
    "            print('\\n',student_marks_data)\n",
    "        elif print_or_not== 'n':\n",
    "            pass\n",
    "        else:\n",
    "            print(\"\\nEnter 'y' or 'n' !!\\n\")\n",
    "    elif data == 'n':\n",
    "        print_or_not = input('\\nDo you want to see the data added so far? (y/n):  ')\n",
    "        if print_or_not =='y':\n",
    "            print('\\n',student_marks_data)\n",
    "        elif print_or_not == 'n':\n",
    "            pass\n",
    "        else:\n",
    "            print(\"\\n Enter 'y' or 'n' !!\\n\")\n",
    "        break\n",
    "    else:\n",
    "        print(\"\\nEnter 'y' or 'n' !!\\n\")"
   ]
  },
  {
   "cell_type": "markdown",
   "id": "038b81b2",
   "metadata": {},
   "source": [
    "# List"
   ]
  },
  {
   "cell_type": "markdown",
   "id": "f6ac39c8",
   "metadata": {},
   "source": [
    "# Q1. Sort the given list in Descending Order. "
   ]
  },
  {
   "cell_type": "code",
   "execution_count": 25,
   "id": "a046894d",
   "metadata": {},
   "outputs": [
    {
     "name": "stdout",
     "output_type": "stream",
     "text": [
      "[0, 1, 2, 3, 4, 5, 6, 7, 8, 9, 10, 11, 12, 13, 14, 15, 16, 17, 18, 19, 20, 21, 22, 23, 24]\n"
     ]
    }
   ],
   "source": [
    "list1 = [x for x in range(25)]\n",
    "print(list1)"
   ]
  },
  {
   "cell_type": "code",
   "execution_count": 26,
   "id": "f26f6584",
   "metadata": {},
   "outputs": [
    {
     "name": "stdout",
     "output_type": "stream",
     "text": [
      "[24, 23, 22, 21, 20, 19, 18, 17, 16, 15, 14, 13, 12, 11, 10, 9, 8, 7, 6, 5, 4, 3, 2, 1, 0]\n"
     ]
    }
   ],
   "source": [
    "list1.sort(reverse = True)\n",
    "print(list1)"
   ]
  },
  {
   "cell_type": "markdown",
   "id": "88761512",
   "metadata": {},
   "source": [
    "# Q2. Change Spinach with Grape in the following list of fruits."
   ]
  },
  {
   "cell_type": "code",
   "execution_count": 27,
   "id": "a4065f6a",
   "metadata": {},
   "outputs": [
    {
     "name": "stdout",
     "output_type": "stream",
     "text": [
      "['Apple', 'Banana', 'Cherry', 'Orange', 'Kiwi', 'Papaya', 'Spinach', 'Pineapple']\n"
     ]
    }
   ],
   "source": [
    "fruits = ['Apple', 'Banana', 'Cherry', 'Orange', 'Kiwi', 'Papaya', 'Spinach', 'Pineapple']\n",
    "print(fruits)"
   ]
  },
  {
   "cell_type": "code",
   "execution_count": 28,
   "id": "5030bba4",
   "metadata": {},
   "outputs": [
    {
     "name": "stdout",
     "output_type": "stream",
     "text": [
      "['Apple', 'Banana', 'Cherry', 'Orange', 'Kiwi', 'Papaya', 'Grape', 'Pineapple']\n"
     ]
    }
   ],
   "source": [
    "fruits[6]='Grape'\n",
    "print(fruits)"
   ]
  },
  {
   "cell_type": "markdown",
   "id": "755dba80",
   "metadata": {},
   "source": [
    "# Q3. Write a program to replace the first and last item in given list `fruits`."
   ]
  },
  {
   "cell_type": "code",
   "execution_count": 29,
   "id": "ca16693e",
   "metadata": {},
   "outputs": [
    {
     "name": "stdout",
     "output_type": "stream",
     "text": [
      "['Pineapple', 'Banana', 'Cherry', 'Orange', 'Kiwi', 'Papaya', 'Spinach', 'Apple']\n"
     ]
    }
   ],
   "source": [
    "fruits = ['Apple', 'Banana', 'Cherry', 'Orange', 'Kiwi', 'Papaya', 'Spinach', 'Pineapple']\n",
    "first_item = fruits.pop(0)\n",
    "last_item = fruits.pop(-1)\n",
    "fruits.insert(0,last_item)\n",
    "fruits.append(first_item)\n",
    "print(fruits)"
   ]
  },
  {
   "cell_type": "markdown",
   "id": "47ca2aee",
   "metadata": {},
   "source": [
    "# Q4. Join the two given lists and arrange them in ascending order if there are less than 10 items in each of them."
   ]
  },
  {
   "cell_type": "code",
   "execution_count": 30,
   "id": "ebb608ad",
   "metadata": {},
   "outputs": [],
   "source": [
    "l1 = [7, 87, 47, 56, 15, 12, 78, 97, 14]\n",
    "l2 = [55, 45, 58, 9, 7, 8]"
   ]
  },
  {
   "cell_type": "code",
   "execution_count": 31,
   "id": "fb24a1c1",
   "metadata": {},
   "outputs": [
    {
     "name": "stdout",
     "output_type": "stream",
     "text": [
      "joined and Sorted list - [7, 7, 8, 9, 12, 14, 15, 45, 47, 55, 56, 58, 78, 87, 97]\n"
     ]
    }
   ],
   "source": [
    "if (len(l1) <10) & (len(l2) <10):\n",
    "    new_list =l1 + l2\n",
    "    new_list.sort()\n",
    "    print(\"joined and Sorted list -\",new_list)\n",
    "else:\n",
    "    print(\"One of the lists has more than 10 items\")"
   ]
  },
  {
   "cell_type": "markdown",
   "id": "326f84ff",
   "metadata": {},
   "source": [
    "# Q5. Consider the given List, if the item is an integer, skip it, or else add it to a new list."
   ]
  },
  {
   "cell_type": "code",
   "execution_count": 32,
   "id": "9d7bd282",
   "metadata": {},
   "outputs": [
    {
     "name": "stdout",
     "output_type": "stream",
     "text": [
      "[2, 'H', 7, 'U', 'G', 6, 5, 6, 'B', 7.5]\n"
     ]
    }
   ],
   "source": [
    "mixed_list = [2, 'H', 7, 'U', 'G', 6, 5, 6, 'B', 7.5]\n",
    "print(mixed_list) "
   ]
  },
  {
   "cell_type": "code",
   "execution_count": 33,
   "id": "3811e20d",
   "metadata": {},
   "outputs": [
    {
     "name": "stdout",
     "output_type": "stream",
     "text": [
      "['H', 'U', 'G', 'B', 7.5]\n"
     ]
    }
   ],
   "source": [
    "non_integer_list = []\n",
    "for item in mixed_list:\n",
    "    if type(item) !=int:\n",
    "        non_integer_list.append(item)\n",
    "print(non_integer_list)"
   ]
  },
  {
   "cell_type": "markdown",
   "id": "29745336",
   "metadata": {},
   "source": [
    "# Set"
   ]
  },
  {
   "cell_type": "markdown",
   "id": "cfd11aa5",
   "metadata": {},
   "source": [
    "# Q1. Add the two given Sets."
   ]
  },
  {
   "cell_type": "code",
   "execution_count": 34,
   "id": "21190471",
   "metadata": {},
   "outputs": [],
   "source": [
    "set1 = {4, 52, 34, 7, 8, 9, 0, 2, 1, 22, 54, 6}\n",
    "set2 = {6, 45, 3, 22, 11 ,7, 8, 12}"
   ]
  },
  {
   "cell_type": "code",
   "execution_count": 35,
   "id": "c1b5bfc3",
   "metadata": {},
   "outputs": [
    {
     "name": "stdout",
     "output_type": "stream",
     "text": [
      "{0, 1, 2, 3, 4, 6, 7, 8, 9, 11, 12, 22, 34, 45, 52, 54}\n"
     ]
    }
   ],
   "source": [
    "set1.update(set2)\n",
    "print(set1)"
   ]
  },
  {
   "cell_type": "code",
   "execution_count": 36,
   "id": "e5a1923f",
   "metadata": {},
   "outputs": [
    {
     "name": "stdout",
     "output_type": "stream",
     "text": [
      "{3, 6, 7, 8, 11, 12, 45, 22}\n"
     ]
    }
   ],
   "source": [
    "set.update(set1)\n",
    "print(set2)"
   ]
  },
  {
   "cell_type": "markdown",
   "id": "054ce34e",
   "metadata": {},
   "source": [
    "# Q2. Find the Intersection of the two given sets."
   ]
  },
  {
   "cell_type": "code",
   "execution_count": 37,
   "id": "55f83294",
   "metadata": {},
   "outputs": [],
   "source": [
    "set1 = {4, 52, 34, 7, 8, 9, 0, 2, 1, 22, 54, 6}\n",
    "set2 = {6, 45, 3, 22, 11 ,7, 8, 12}"
   ]
  },
  {
   "cell_type": "code",
   "execution_count": 38,
   "id": "cef1b475",
   "metadata": {},
   "outputs": [
    {
     "data": {
      "text/plain": [
       "{6, 7, 8, 22}"
      ]
     },
     "execution_count": 38,
     "metadata": {},
     "output_type": "execute_result"
    }
   ],
   "source": [
    "set1.intersection(set2)"
   ]
  },
  {
   "cell_type": "code",
   "execution_count": 39,
   "id": "3d2e4e8f",
   "metadata": {},
   "outputs": [
    {
     "data": {
      "text/plain": [
       "{6, 7, 8, 22}"
      ]
     },
     "execution_count": 39,
     "metadata": {},
     "output_type": "execute_result"
    }
   ],
   "source": [
    "set2.intersection(set1)"
   ]
  },
  {
   "cell_type": "markdown",
   "id": "4cdec5cc",
   "metadata": {},
   "source": [
    "# Q3. Find the Union of the two given sets."
   ]
  },
  {
   "cell_type": "code",
   "execution_count": 40,
   "id": "58f4f990",
   "metadata": {},
   "outputs": [
    {
     "data": {
      "text/plain": [
       "{0, 1, 2, 3, 4, 6, 7, 8, 9, 11, 12, 22, 34, 45, 52, 54}"
      ]
     },
     "execution_count": 40,
     "metadata": {},
     "output_type": "execute_result"
    }
   ],
   "source": [
    "set1.union(set2)"
   ]
  },
  {
   "cell_type": "code",
   "execution_count": 41,
   "id": "406d815c",
   "metadata": {},
   "outputs": [
    {
     "data": {
      "text/plain": [
       "{0, 1, 2, 3, 4, 6, 7, 8, 9, 11, 12, 22, 34, 45, 52, 54}"
      ]
     },
     "execution_count": 41,
     "metadata": {},
     "output_type": "execute_result"
    }
   ],
   "source": [
    "set2.union(set1)"
   ]
  },
  {
   "cell_type": "markdown",
   "id": "162647fe",
   "metadata": {},
   "source": [
    "# Q4. Find the difference of the two given sets."
   ]
  },
  {
   "cell_type": "code",
   "execution_count": 42,
   "id": "79cc081f",
   "metadata": {},
   "outputs": [],
   "source": [
    "set1 = {4, 52, 34, 7, 8, 9, 0, 2, 1, 22, 54, 6}\n",
    "set2 = {6, 45, 3, 22, 11 ,7, 8, 12}"
   ]
  },
  {
   "cell_type": "code",
   "execution_count": 43,
   "id": "b2aa9e2b",
   "metadata": {},
   "outputs": [
    {
     "data": {
      "text/plain": [
       "{0, 1, 2, 4, 9, 34, 52, 54}"
      ]
     },
     "execution_count": 43,
     "metadata": {},
     "output_type": "execute_result"
    }
   ],
   "source": [
    "set1.difference(set2)"
   ]
  },
  {
   "cell_type": "code",
   "execution_count": 44,
   "id": "4020b2c7",
   "metadata": {},
   "outputs": [
    {
     "data": {
      "text/plain": [
       "{3, 11, 12, 45}"
      ]
     },
     "execution_count": 44,
     "metadata": {},
     "output_type": "execute_result"
    }
   ],
   "source": [
    "set2.difference(set1)"
   ]
  },
  {
   "cell_type": "markdown",
   "id": "e959658b",
   "metadata": {},
   "source": [
    "# Q5. Check if the given set `b` is a subset of set `a`."
   ]
  },
  {
   "cell_type": "code",
   "execution_count": 45,
   "id": "5dab6cbf",
   "metadata": {},
   "outputs": [],
   "source": [
    "set_a = {5, 4, 2, 7, 8, 0, 9, 1, 3, 6}\n",
    "set_b = {2, 4, 6, 8}"
   ]
  },
  {
   "cell_type": "code",
   "execution_count": 46,
   "id": "906ee4a4",
   "metadata": {},
   "outputs": [
    {
     "data": {
      "text/plain": [
       "False"
      ]
     },
     "execution_count": 46,
     "metadata": {},
     "output_type": "execute_result"
    }
   ],
   "source": [
    "set_a.issubset(set_b)"
   ]
  },
  {
   "cell_type": "code",
   "execution_count": 47,
   "id": "57aedec3",
   "metadata": {},
   "outputs": [
    {
     "data": {
      "text/plain": [
       "True"
      ]
     },
     "execution_count": 47,
     "metadata": {},
     "output_type": "execute_result"
    }
   ],
   "source": [
    "set_b.issubset(set_a)"
   ]
  },
  {
   "cell_type": "markdown",
   "id": "66d0c9c7",
   "metadata": {},
   "source": [
    "# String"
   ]
  },
  {
   "cell_type": "code",
   "execution_count": 48,
   "id": "74d07870",
   "metadata": {},
   "outputs": [
    {
     "name": "stdout",
     "output_type": "stream",
     "text": [
      "'William Shakespeare was an English playwright, poet and actor. \n",
      "He is widely regarded as the greatest writer in the English language and the world's pre-eminent dramatist.\n"
     ]
    }
   ],
   "source": [
    "# Creating a string\n",
    "\n",
    "string1 = ''''William Shakespeare was an English playwright, poet and actor. \n",
    "He is widely regarded as the greatest writer in the English language and the world's pre-eminent dramatist.'''\n",
    "\n",
    "# printing the string\n",
    "print(string1)"
   ]
  },
  {
   "cell_type": "markdown",
   "id": "d638bbe3",
   "metadata": {},
   "source": [
    "# Q1. Find the length of the given string."
   ]
  },
  {
   "cell_type": "code",
   "execution_count": 49,
   "id": "ebd13ed6",
   "metadata": {},
   "outputs": [
    {
     "data": {
      "text/plain": [
       "172"
      ]
     },
     "execution_count": 49,
     "metadata": {},
     "output_type": "execute_result"
    }
   ],
   "source": [
    "len(string1)"
   ]
  },
  {
   "cell_type": "markdown",
   "id": "cbed1d1a",
   "metadata": {},
   "source": [
    "# Q2. Check if the word `Shakespeare` is in the given string or not.\n",
    "\n",
    "Hint: Use logical statements or/and python's inbuilt keyword arguments"
   ]
  },
  {
   "cell_type": "code",
   "execution_count": 50,
   "id": "742067b8",
   "metadata": {},
   "outputs": [
    {
     "data": {
      "text/plain": [
       "False"
      ]
     },
     "execution_count": 50,
     "metadata": {},
     "output_type": "execute_result"
    }
   ],
   "source": [
    "'shakespeare' in string1"
   ]
  },
  {
   "cell_type": "markdown",
   "id": "40193efb",
   "metadata": {},
   "source": [
    "# Q3. Append string2 to string1"
   ]
  },
  {
   "cell_type": "code",
   "execution_count": 51,
   "id": "3bd27c3f",
   "metadata": {},
   "outputs": [
    {
     "name": "stdout",
     "output_type": "stream",
     "text": [
      "He is often called England's national poet and the \"Bard of Avon\".\n"
     ]
    }
   ],
   "source": [
    "string2 = '''He is often called England's national poet and the \"Bard of Avon\".'''\n",
    "\n",
    "print(string2) #Printing string2"
   ]
  },
  {
   "cell_type": "code",
   "execution_count": 52,
   "id": "f03030c4",
   "metadata": {},
   "outputs": [
    {
     "name": "stdout",
     "output_type": "stream",
     "text": [
      "'William Shakespeare was an English playwright, poet and actor. \n",
      "He is widely regarded as the greatest writer in the English language and the world's pre-eminent dramatist. He is often called England's national poet and the \"Bard of Avon\".\n"
     ]
    }
   ],
   "source": [
    "print(string1 +' '+ string2)"
   ]
  },
  {
   "cell_type": "markdown",
   "id": "b1e7c5d2",
   "metadata": {},
   "source": [
    "# Q4. Replace the words `William Shakespeare` to `W. Shakespeare` in the given string1."
   ]
  },
  {
   "cell_type": "code",
   "execution_count": 53,
   "id": "279fb0f6",
   "metadata": {},
   "outputs": [
    {
     "name": "stdout",
     "output_type": "stream",
     "text": [
      "'W.shakespeare was an English playwright, poet and actor. \n",
      "He is widely regarded as the greatest writer in the English language and the world's pre-eminent dramatist.\n"
     ]
    }
   ],
   "source": [
    "print(string1.replace(\"William Shakespeare\" , 'W.shakespeare'))"
   ]
  },
  {
   "cell_type": "markdown",
   "id": "b82f60f5",
   "metadata": {},
   "source": [
    "# Q5. Count the number of words in the given string 1.\n",
    "\n",
    "Hint: Split the words first."
   ]
  },
  {
   "cell_type": "code",
   "execution_count": 54,
   "id": "02f9d74c",
   "metadata": {},
   "outputs": [
    {
     "name": "stdout",
     "output_type": "stream",
     "text": [
      "he number of words in the string1 are 26\n"
     ]
    }
   ],
   "source": [
    "words=string1.split()\n",
    "print(\"he number of words in the string1 are\",len(words))"
   ]
  },
  {
   "cell_type": "markdown",
   "id": "355bf978",
   "metadata": {},
   "source": [
    "# Tuple"
   ]
  },
  {
   "cell_type": "markdown",
   "id": "c15e0792",
   "metadata": {},
   "source": [
    "# Q1. Find the number of items in the given tuple without using the `len( )` function."
   ]
  },
  {
   "cell_type": "code",
   "execution_count": 55,
   "id": "456fd225",
   "metadata": {},
   "outputs": [
    {
     "name": "stdout",
     "output_type": "stream",
     "text": [
      "('Break', 4, 'John', 6, 7, 4, 3)\n",
      "\n",
      " <class 'tuple'>\n"
     ]
    }
   ],
   "source": [
    "tup = ('Break', 4, 'John', 6, 7, 4, 3)\n",
    "print(tup)\n",
    "print('\\n', type(tup))"
   ]
  },
  {
   "cell_type": "code",
   "execution_count": 56,
   "id": "0f599c73",
   "metadata": {},
   "outputs": [
    {
     "name": "stdout",
     "output_type": "stream",
     "text": [
      "7\n"
     ]
    }
   ],
   "source": [
    "total_item = 0\n",
    "for item in tup:\n",
    "    total_item=total_item+1\n",
    "print(total_item)"
   ]
  },
  {
   "cell_type": "code",
   "execution_count": 57,
   "id": "bd395ae8",
   "metadata": {},
   "outputs": [
    {
     "data": {
      "text/plain": [
       "7"
      ]
     },
     "execution_count": 57,
     "metadata": {},
     "output_type": "execute_result"
    }
   ],
   "source": [
    "len(tup)"
   ]
  },
  {
   "cell_type": "markdown",
   "id": "e4eb3fc4",
   "metadata": {},
   "source": [
    "# Q2. Join the two given tuples."
   ]
  },
  {
   "cell_type": "code",
   "execution_count": 58,
   "id": "9212d4ae",
   "metadata": {},
   "outputs": [],
   "source": [
    "tuple1 = ('Tomato', 'Potato', 'Cauliflower', 'Capsicum', 'Peas')\n",
    "tuple2 = ('Cabbage', 'Carrot', 'Raddish', 'Cucumber', 'Beetroot')"
   ]
  },
  {
   "cell_type": "code",
   "execution_count": 59,
   "id": "77075ab3",
   "metadata": {},
   "outputs": [
    {
     "data": {
      "text/plain": [
       "('Tomato',\n",
       " 'Potato',\n",
       " 'Cauliflower',\n",
       " 'Capsicum',\n",
       " 'Peas',\n",
       " 'Cabbage',\n",
       " 'Carrot',\n",
       " 'Raddish',\n",
       " 'Cucumber',\n",
       " 'Beetroot')"
      ]
     },
     "execution_count": 59,
     "metadata": {},
     "output_type": "execute_result"
    }
   ],
   "source": [
    "tuple1+tuple2"
   ]
  },
  {
   "cell_type": "code",
   "execution_count": 60,
   "id": "105d8294",
   "metadata": {},
   "outputs": [
    {
     "name": "stdout",
     "output_type": "stream",
     "text": [
      "('Tomato', 'Potato', 'Cauliflower', 'Capsicum', 'Peas', 'Cabbage', 'Carrot', 'Raddish', 'Cucumber', 'Beetroot')\n"
     ]
    }
   ],
   "source": [
    "print((tuple1) + (tuple2)) "
   ]
  },
  {
   "cell_type": "markdown",
   "id": "f829e1a1",
   "metadata": {},
   "source": [
    "# Q3. Join the given list and tuple."
   ]
  },
  {
   "cell_type": "code",
   "execution_count": 61,
   "id": "a0d5aa0e",
   "metadata": {},
   "outputs": [],
   "source": [
    "the_list = ['Apple', 'Banana', 'Cherry', 'Orange', 'Kiwi', 'Papaya', 'Grape', 'Pineapple']\n",
    "\n",
    "the_tuple = ('Berry', 'Cranberry', 'Melon', 'Strawberry')"
   ]
  },
  {
   "cell_type": "code",
   "execution_count": 62,
   "id": "5fc342f0",
   "metadata": {},
   "outputs": [
    {
     "name": "stdout",
     "output_type": "stream",
     "text": [
      "('Apple', 'Banana', 'Cherry', 'Orange', 'Kiwi', 'Papaya', 'Grape', 'Pineapple', 'Berry', 'Cranberry', 'Melon', 'Strawberry')\n"
     ]
    }
   ],
   "source": [
    "print(tuple(the_list) + (the_tuple))"
   ]
  },
  {
   "cell_type": "markdown",
   "id": "48e18427",
   "metadata": {},
   "source": [
    "# Q4. Remove all the duplicate values from the given tuple."
   ]
  },
  {
   "cell_type": "code",
   "execution_count": 63,
   "id": "ae09c209",
   "metadata": {},
   "outputs": [
    {
     "name": "stdout",
     "output_type": "stream",
     "text": [
      "('Apple', 'Banana', 'Cherry', 'Orange', 'Kiwi', 'Papaya', 'Grape', 'Pineapple', 'Cherry', 'Orange', 'Kiwi')\n"
     ]
    }
   ],
   "source": [
    "tuple_of_fruits = ('Apple', 'Banana', 'Cherry', 'Orange', 'Kiwi', 'Papaya', 'Grape', 'Pineapple', 'Cherry', 'Orange', 'Kiwi' )\n",
    "print(tuple_of_fruits)"
   ]
  },
  {
   "cell_type": "code",
   "execution_count": 64,
   "id": "c68197f5",
   "metadata": {},
   "outputs": [
    {
     "data": {
      "text/plain": [
       "('Kiwi', 'Grape', 'Orange', 'Apple', 'Cherry', 'Banana', 'Pineapple', 'Papaya')"
      ]
     },
     "execution_count": 64,
     "metadata": {},
     "output_type": "execute_result"
    }
   ],
   "source": [
    "tuple(set(tuple_of_fruits))"
   ]
  },
  {
   "cell_type": "code",
   "execution_count": 65,
   "id": "04c399b7",
   "metadata": {},
   "outputs": [],
   "source": [
    "new_tuple_of_fruits=[]\n"
   ]
  },
  {
   "cell_type": "markdown",
   "id": "24dd75e8",
   "metadata": {},
   "source": [
    "# Q5. Remove the negative items from the given tuple of integers."
   ]
  },
  {
   "cell_type": "code",
   "execution_count": 66,
   "id": "5a33e2bd",
   "metadata": {},
   "outputs": [
    {
     "name": "stdout",
     "output_type": "stream",
     "text": [
      "(87, -5, 47, -85, 6, 22, 45, 57, -77, 102, -54, 50)\n"
     ]
    }
   ],
   "source": [
    "tuple_of_integers = (87, -5, 47, -85, 6, 22, 45, 57, -77, 102, -54, 50)\n",
    "print(tuple_of_integers)"
   ]
  },
  {
   "cell_type": "code",
   "execution_count": 67,
   "id": "24a4c6b5",
   "metadata": {},
   "outputs": [
    {
     "data": {
      "text/plain": [
       "(87, 47, 6, 22, 45, 57, 102, 50)"
      ]
     },
     "execution_count": 67,
     "metadata": {},
     "output_type": "execute_result"
    }
   ],
   "source": [
    "list_of_integers=list(tuple_of_integers)\n",
    "for item in list_of_integers:\n",
    "    if item < 0:\n",
    "        list_of_integers.remove(item)\n",
    "tuple(list_of_integers)"
   ]
  },
  {
   "cell_type": "markdown",
   "id": "64d50430",
   "metadata": {},
   "source": [
    "# While loop"
   ]
  },
  {
   "cell_type": "markdown",
   "id": "1852c9d3",
   "metadata": {},
   "source": [
    "# Q1. Create a while loop which iterates over natural numbers and breaks before the integer 6."
   ]
  },
  {
   "cell_type": "code",
   "execution_count": 68,
   "id": "8cec1b70",
   "metadata": {},
   "outputs": [
    {
     "name": "stdout",
     "output_type": "stream",
     "text": [
      "1\n",
      "2\n",
      "3\n",
      "4\n",
      "5\n"
     ]
    }
   ],
   "source": [
    "i=1\n",
    "while i<6:\n",
    "    print(i)\n",
    "    i=i+1"
   ]
  },
  {
   "cell_type": "code",
   "execution_count": 8,
   "id": "f3c18773",
   "metadata": {},
   "outputs": [
    {
     "name": "stdout",
     "output_type": "stream",
     "text": [
      "1\n",
      "2\n",
      "3\n",
      "4\n",
      "5\n"
     ]
    }
   ],
   "source": [
    "i=1\n",
    "while True:\n",
    "    print(i)\n",
    "    i=i+1\n",
    "    if i==6:\n",
    "        break\n"
   ]
  },
  {
   "cell_type": "markdown",
   "id": "bbe3c57f",
   "metadata": {},
   "source": [
    "# Q2. Write a program using while loop to print even numbers till 10. "
   ]
  },
  {
   "cell_type": "code",
   "execution_count": 71,
   "id": "13eea736",
   "metadata": {},
   "outputs": [
    {
     "name": "stdout",
     "output_type": "stream",
     "text": [
      "1\n",
      "2\n",
      "3\n",
      "4\n",
      "5\n",
      "6\n",
      "7\n",
      "8\n",
      "9\n",
      "10\n"
     ]
    }
   ],
   "source": [
    "i=1\n",
    "while i<=10:\n",
    "    print(i)\n",
    "    i=i+1\n",
    "     \n"
   ]
  },
  {
   "cell_type": "markdown",
   "id": "7e902052",
   "metadata": {},
   "source": [
    "# Q3. Write a program to print a Multiplication Table of any number specified by the user using while Loop."
   ]
  },
  {
   "cell_type": "code",
   "execution_count": 73,
   "id": "e1c0b857",
   "metadata": {},
   "outputs": [
    {
     "name": "stdout",
     "output_type": "stream",
     "text": [
      "Enter Your Number: 22\n",
      "\n",
      "22 x 1 = 22\n",
      "\n",
      "22 x 2 = 44\n",
      "\n",
      "22 x 3 = 66\n",
      "\n",
      "22 x 4 = 88\n",
      "\n",
      "22 x 5 = 110\n",
      "\n",
      "22 x 6 = 132\n",
      "\n",
      "22 x 7 = 154\n",
      "\n",
      "22 x 8 = 176\n",
      "\n",
      "22 x 9 = 198\n",
      "\n",
      "22 x 10 = 220\n"
     ]
    }
   ],
   "source": [
    "i=int(input(\"Enter Your Number: \"))\n",
    "z=1\n",
    "while True:\n",
    "    print(f'\\n{i} x {z} = {i*z}')\n",
    "    z +=1\n",
    "    if z>10:\n",
    "        break"
   ]
  },
  {
   "cell_type": "markdown",
   "id": "21aae908",
   "metadata": {},
   "source": [
    "# Q4. Write a program to print the factorial of any number specified by the user using while loop."
   ]
  },
  {
   "cell_type": "code",
   "execution_count": 74,
   "id": "69d741bd",
   "metadata": {},
   "outputs": [
    {
     "name": "stdout",
     "output_type": "stream",
     "text": [
      "Enter any number: 20\n",
      "\n",
      " factorial is 2432902008176640000.\n"
     ]
    }
   ],
   "source": [
    "n = int(input(\"Enter any number: \"))\n",
    "i = 1\n",
    "while n >= 1:\n",
    "    i = i * n\n",
    "    n = n - 1\n",
    "print(f'\\n factorial is {i}.')      "
   ]
  },
  {
   "cell_type": "markdown",
   "id": "debec0a9",
   "metadata": {},
   "source": [
    "# Q5. Write a program to create a simple management a system for student to Add, Delete or Modify customer data for his startup (using while loop)."
   ]
  },
  {
   "cell_type": "code",
   "execution_count": 78,
   "id": "740b4a01",
   "metadata": {},
   "outputs": [
    {
     "name": "stdout",
     "output_type": "stream",
     "text": [
      "\n",
      " choose your option:\n",
      "\n",
      " 0: Data\n",
      " 1:Delete data\n",
      " 2: Modify Data\n",
      " 3: Show data\n",
      " 4: Quit system\n",
      "\n",
      "2\n",
      "\n",
      "Enter the Customer ID you want to Modify: 54\n",
      "\n",
      " choose your option:\n",
      "\n",
      " 0: Data\n",
      " 1:Delete data\n",
      " 2: Modify Data\n",
      " 3: Show data\n",
      " 4: Quit system\n",
      "\n",
      "3\n",
      "\n",
      " []\n",
      "\n",
      " choose your option:\n",
      "\n",
      " 0: Data\n",
      " 1:Delete data\n",
      " 2: Modify Data\n",
      " 3: Show data\n",
      " 4: Quit system\n",
      "\n",
      "4\n"
     ]
    }
   ],
   "source": [
    "customer_data = []\n",
    "while True:\n",
    "    choice = int(input(\"\\n choose your option:\\n\\n 0: Data\\n 1:Delete data\\n 2: Modify Data\\n 3: Show data\\n 4: Quit system\\n\\n\"))\n",
    "    if choice == 0:\n",
    "        customer_id = int(input(\"Enter Customer ID: \"))\n",
    "        name = input('Enter the name of the customer: ')\n",
    "        age = input('Enter the age of the customer: ')\n",
    "        phone_number = int(input('Enter phone number: '))\n",
    "        city = input('Enter the city of the customer: ')\n",
    "        subscribed = input('Did customer buy subscritpion? (y/n): ')\n",
    "        \n",
    "        data={\n",
    "            'Customer Id': customer_id,\n",
    "            'Name': name,\n",
    "            'Age': age,\n",
    "            'Contact Number': phone_number,\n",
    "            'City':city,\n",
    "            'Subscribed':subscribed\n",
    "        }\n",
    "        customer_data.append(data)\n",
    "    elif choice == 1:\n",
    "        idx = int(input(\"\\nEnter the Customer ID you want to Delete: \"))\n",
    "        \n",
    "        for item in customer_data:\n",
    "            if item['Customer Id'] == idx:\n",
    "                customer_data.remove(item)\n",
    "            else:\n",
    "                print(\"\\nCustomer Id does not exit!\\n\")\n",
    "    elif choice == 2:\n",
    "        idx2 = int(input(\"\\nEnter the Customer ID you want to Modify: \"))\n",
    "        \n",
    "        for item in customer_data:\n",
    "            if item['Customer Id'] == idx2:\n",
    "                name=input('Enter the name of the customer: ')\n",
    "                age=input('Enter the age of the customer: ')\n",
    "                phone_number=int(input(\"Enter phone number: \"))\n",
    "                city = input('Enetr the city of the customer: ')\n",
    "                subscribed = input('Did customer buy subscritpion? (y/n): ')\n",
    "                \n",
    "                data2 ={\n",
    "                    'Name': name,\n",
    "                    'Age': age,\n",
    "                    'Contact Number': phone_number,\n",
    "                    'City': city,\n",
    "                    'Subscribed': subscribed\n",
    "                }\n",
    "                \n",
    "                data.update(data2)\n",
    "            else:\n",
    "                print('\\nCustomer Id does not exit!\\n')\n",
    "    elif choice == 3:\n",
    "        print('\\n',customer_data)\n",
    "        \n",
    "    elif choice == 4:\n",
    "        break\n",
    "        \n",
    "    else:\n",
    "        print('Invalid Requet !!')\n",
    "        break"
   ]
  },
  {
   "cell_type": "markdown",
   "id": "00dcd734",
   "metadata": {},
   "source": [
    "# Python Classes and object"
   ]
  },
  {
   "cell_type": "markdown",
   "id": "12f1ca15",
   "metadata": {},
   "source": [
    "# Q1. Create a simple class that adds two numbers."
   ]
  },
  {
   "cell_type": "code",
   "execution_count": 81,
   "id": "acacfc34",
   "metadata": {},
   "outputs": [
    {
     "data": {
      "text/plain": [
       "4023"
      ]
     },
     "execution_count": 81,
     "metadata": {},
     "output_type": "execute_result"
    }
   ],
   "source": [
    "class Add:\n",
    "    def add(self,x,y):\n",
    "        return x+y\n",
    "addition = Add()\n",
    "addition.add(2023,2000)"
   ]
  },
  {
   "cell_type": "markdown",
   "id": "0f2c1201",
   "metadata": {},
   "source": [
    "# Q2. Create a simple power function using a python class."
   ]
  },
  {
   "cell_type": "code",
   "execution_count": 84,
   "id": "8a621376",
   "metadata": {},
   "outputs": [
    {
     "data": {
      "text/plain": [
       "64"
      ]
     },
     "execution_count": 84,
     "metadata": {},
     "output_type": "execute_result"
    }
   ],
   "source": [
    "class Exponential:\n",
    "    def power(self,x,n):\n",
    "        return x**n\n",
    "exp=Exponential()\n",
    "exp.power(4,3)"
   ]
  },
  {
   "cell_type": "markdown",
   "id": "32b94204",
   "metadata": {},
   "source": [
    "# Q3. Create a simple class which print \"Hi, {your name}\" using the init function. {your name} must be specified by the user."
   ]
  },
  {
   "cell_type": "code",
   "execution_count": 86,
   "id": "ffefda7c",
   "metadata": {},
   "outputs": [
    {
     "name": "stdout",
     "output_type": "stream",
     "text": [
      "Enter your name: Nisa\n",
      "Hi,Nisa\n"
     ]
    }
   ],
   "source": [
    "class Name:\n",
    "    def __init__(self,name):\n",
    "        self.name=name\n",
    "    def print_name(self):\n",
    "        print(f'Hi,{self.name}')\n",
    "n=input('Enter your name: ')\n",
    "name=Name(n)\n",
    "name.print_name()"
   ]
  },
  {
   "cell_type": "markdown",
   "id": "b5022af5",
   "metadata": {},
   "source": [
    "# Q4. Write a Python class to reverse a user specified string."
   ]
  },
  {
   "cell_type": "code",
   "execution_count": 89,
   "id": "7813c5e0",
   "metadata": {},
   "outputs": [
    {
     "name": "stdout",
     "output_type": "stream",
     "text": [
      "Enter Anything: Hiiii,Hello \n"
     ]
    },
    {
     "data": {
      "text/plain": [
       "' olleh,iiiih'"
      ]
     },
     "execution_count": 89,
     "metadata": {},
     "output_type": "execute_result"
    }
   ],
   "source": [
    "class Reversed:\n",
    "    def __init__(self,string):\n",
    "        self.string = string\n",
    "    def reverse_string(self):\n",
    "        new_string = ''.join(list(reversed(self.string))).lower()\n",
    "        return new_string\n",
    "user_string = input('Enter Anything: ')\n",
    "reverse = Reversed(user_string)\n",
    "reverse.reverse_string()\n"
   ]
  },
  {
   "cell_type": "markdown",
   "id": "a220431c",
   "metadata": {},
   "source": [
    "# Q5. Write a Python class BankAccount with attributes like account_number, balance, date_of_opening and customer_name, and methods like deposit, withdraw, and check_balance."
   ]
  },
  {
   "cell_type": "code",
   "execution_count": 109,
   "id": "17e72593",
   "metadata": {},
   "outputs": [],
   "source": [
    "class BankAccount:\n",
    "    def __init__(self,account_number,date_of_opening,balance,customer_name):\n",
    "        self.account_number = account_number\n",
    "        self.date_of_opening = date_of_opening\n",
    "        self.balance = balance\n",
    "        self.customer_name = customer_name\n",
    "    def deposit(self,amount):\n",
    "        self.balance += amount\n",
    "        print(f\"${amount} has been deposited in your account.\")\n",
    "    def withdraw(self,amount):\n",
    "        if amount > self.balance:\n",
    "            print(\"Insufficient balance.\")\n",
    "        else:\n",
    "            self.balance -= amount\n",
    "            print(f\"${amount} has been withdrown from your account.\")\n",
    "    def check_balance(self):\n",
    "        print(f\"Current balance is ${self.balance}.\")\n",
    "    def print_customer_details(self):\n",
    "        print(\"Name:\",self.customer_name)\n",
    "        print(\"Account number:\",self.account_number)\n",
    "        print(\"Date of opening:\",self.date_of_opening)\n",
    "        print(f\"Balance:${self.balance}\\n\")\n",
    "bank_user = BankAccount(2345,\"01-01-2023\",2000,\"Nisa Naik\")\n",
    "        "
   ]
  },
  {
   "cell_type": "code",
   "execution_count": 110,
   "id": "ce8d2ebb",
   "metadata": {},
   "outputs": [
    {
     "name": "stdout",
     "output_type": "stream",
     "text": [
      "Current balance is $2000.\n"
     ]
    }
   ],
   "source": [
    "bank_user.check_balance()"
   ]
  },
  {
   "cell_type": "code",
   "execution_count": 111,
   "id": "ec976f92",
   "metadata": {},
   "outputs": [
    {
     "name": "stdout",
     "output_type": "stream",
     "text": [
      "$10000 has been deposited in your account.\n"
     ]
    }
   ],
   "source": [
    "bank_user.deposit(10000)"
   ]
  },
  {
   "cell_type": "code",
   "execution_count": 112,
   "id": "e14025ba",
   "metadata": {},
   "outputs": [
    {
     "name": "stdout",
     "output_type": "stream",
     "text": [
      "$400 has been withdrown from your account.\n"
     ]
    }
   ],
   "source": [
    "bank_user.withdraw(400)"
   ]
  },
  {
   "cell_type": "code",
   "execution_count": 113,
   "id": "d0383e92",
   "metadata": {},
   "outputs": [
    {
     "name": "stdout",
     "output_type": "stream",
     "text": [
      "Current balance is $11600.\n"
     ]
    }
   ],
   "source": [
    "bank_user.check_balance()"
   ]
  },
  {
   "cell_type": "code",
   "execution_count": 114,
   "id": "a1624e44",
   "metadata": {},
   "outputs": [
    {
     "name": "stdout",
     "output_type": "stream",
     "text": [
      "Name: Nisa Naik\n",
      "Account number: 2345\n",
      "Date of opening: 01-01-2023\n",
      "Balance:$11600\n",
      "\n"
     ]
    }
   ],
   "source": [
    "bank_user.print_customer_details()"
   ]
  },
  {
   "cell_type": "markdown",
   "id": "f5bd2a89",
   "metadata": {},
   "source": [
    "# conditional statement"
   ]
  },
  {
   "cell_type": "markdown",
   "id": "203bc70d",
   "metadata": {},
   "source": [
    "# Logical Statement"
   ]
  },
  {
   "cell_type": "markdown",
   "id": "50dd3407",
   "metadata": {},
   "source": [
    "# Q1. Write the general syntax for if, elif and else in a markdown cell."
   ]
  },
  {
   "cell_type": "markdown",
   "id": "81e047f0",
   "metadata": {},
   "source": [
    "if condition:\n",
    "\n",
    "statement\n",
    "\n",
    "elif condition:\n",
    "\n",
    "statement\n",
    "\n",
    "else:\n",
    "\n",
    "statement"
   ]
  },
  {
   "cell_type": "markdown",
   "id": "e8f3c2d8",
   "metadata": {},
   "source": [
    "# Q2. Write a program to check if a number given by a user is a three digit number, a two digit number or neither of them"
   ]
  },
  {
   "cell_type": "code",
   "execution_count": 14,
   "id": "7e278b11",
   "metadata": {},
   "outputs": [
    {
     "name": "stdout",
     "output_type": "stream",
     "text": [
      "Enter your number: 65756\n",
      "The number specified by the user is neither three digit nor two digit. \n"
     ]
    }
   ],
   "source": [
    "number=int(input('Enter your number: ')) # taking a number from the user\n",
    "if 99 < number <=999:\n",
    "    print(\"The number specified by the user is a three digit number.\")\n",
    "elif 9 < number <=99:\n",
    "    print(\"The number specified by the user is a two digit number.\")\n",
    "else:\n",
    "    print(\"The number specified by the user is neither three digit nor two digit. \")"
   ]
  },
  {
   "cell_type": "markdown",
   "id": "d3d485dd",
   "metadata": {},
   "source": [
    "# 3. Write a program to check if the first letter of user specified text is a vowel or not."
   ]
  },
  {
   "cell_type": "code",
   "execution_count": 17,
   "id": "b4da8b29",
   "metadata": {},
   "outputs": [
    {
     "name": "stdout",
     "output_type": "stream",
     "text": [
      "Enter your text:dasdasfa\n",
      "No,The first letter of the specified text is not a vowel.\n"
     ]
    }
   ],
   "source": [
    "text=input(\"Enter your text:\")\n",
    "vowels= 'aeiouAEIOU'\n",
    "if text[0] in vowels:\n",
    "    print('Yes,The first letter of the user specified text is a vowel.')\n",
    "else:\n",
    "    print('No,The first letter of the specified text is not a vowel.')\n",
    "    "
   ]
  },
  {
   "cell_type": "markdown",
   "id": "f759ebeb",
   "metadata": {},
   "source": [
    "# Q4. Write a program to check if the number specified by a user is odd or even.\n",
    "Hint: % is used to find the remainder. And any number which is not divisible by 2 is an odd number."
   ]
  },
  {
   "cell_type": "code",
   "execution_count": 18,
   "id": "43e042ce",
   "metadata": {
    "scrolled": true
   },
   "outputs": [
    {
     "name": "stdout",
     "output_type": "stream",
     "text": [
      "Enter your number:  23\n",
      "The number is odd\n"
     ]
    }
   ],
   "source": [
    "n=int(input('Enter your number:  '))\n",
    "if n % 2 == 0:\n",
    "    print(\"The number is even\")\n",
    "else:\n",
    "    print(\"The number is odd\")"
   ]
  },
  {
   "cell_type": "markdown",
   "id": "31bc1b9a",
   "metadata": {},
   "source": [
    "# Q5. A company decided to give 10% bonus to its employees who has been working for more than 10 years, 7.5% bonus to employees who has been working for 6 to 10 years, and 5% bonus to its employees who has been working for less than 6 years. \n",
    "#### Ask Employees for their Salary and years of service and print their new Salary"
   ]
  },
  {
   "cell_type": "code",
   "execution_count": 22,
   "id": "00ebb836",
   "metadata": {},
   "outputs": [
    {
     "name": "stdout",
     "output_type": "stream",
     "text": [
      "Enter the number of years you've woked in the company: 23\n",
      "Eneter your old Salary: 300000\n",
      "The new salary of the employee is 330000.0\n"
     ]
    }
   ],
   "source": [
    "yes= int(input(\"Enter the number of years you've woked in the company: \"))\n",
    "salary = int(input(\"Eneter your old Salary: \"))\n",
    "if yes > 10:\n",
    "    print(\"The new salary of the employee is\", salary + 0.10 * salary)\n",
    "elif 6 <= yes <= 10:\n",
    "    print(\"The new salary of the employee is\", salary + 0.75 * salary)\n",
    "else:\n",
    "    print(\"The new salary of the employee is\", salary + 0.05 * salary)"
   ]
  },
  {
   "cell_type": "markdown",
   "id": "54d2a796",
   "metadata": {},
   "source": [
    "# Python Function"
   ]
  },
  {
   "cell_type": "markdown",
   "id": "0bcd51fa",
   "metadata": {},
   "source": [
    "# Q1. Create a simple function named first_function which prints \"Hello World\"."
   ]
  },
  {
   "cell_type": "code",
   "execution_count": 44,
   "id": "23691c12",
   "metadata": {},
   "outputs": [],
   "source": [
    "def first_function():\n",
    "    print(\"Hello World\")"
   ]
  },
  {
   "cell_type": "code",
   "execution_count": 45,
   "id": "c999fd9d",
   "metadata": {},
   "outputs": [
    {
     "name": "stdout",
     "output_type": "stream",
     "text": [
      "Hello World\n"
     ]
    }
   ],
   "source": [
    "first_function()"
   ]
  },
  {
   "cell_type": "markdown",
   "id": "e07671e0",
   "metadata": {},
   "source": [
    "# Q2. Create a simple function to find exponential of any number"
   ]
  },
  {
   "cell_type": "code",
   "execution_count": 47,
   "id": "ec3a743c",
   "metadata": {},
   "outputs": [],
   "source": [
    "def power(x,y):\n",
    "    return x**y"
   ]
  },
  {
   "cell_type": "code",
   "execution_count": 48,
   "id": "b890ab0c",
   "metadata": {},
   "outputs": [
    {
     "data": {
      "text/plain": [
       "125"
      ]
     },
     "execution_count": 48,
     "metadata": {},
     "output_type": "execute_result"
    }
   ],
   "source": [
    "power(5,3) # it finds 5 raised to power 3."
   ]
  },
  {
   "cell_type": "markdown",
   "id": "cb675aad",
   "metadata": {},
   "source": [
    "# Q3. Write a function to find the cuberoot of any number."
   ]
  },
  {
   "cell_type": "code",
   "execution_count": 49,
   "id": "b9fcda67",
   "metadata": {},
   "outputs": [],
   "source": [
    "def cuberoot(x):\n",
    "    return x**(1/3)"
   ]
  },
  {
   "cell_type": "code",
   "execution_count": 50,
   "id": "22c56f6a",
   "metadata": {},
   "outputs": [
    {
     "data": {
      "text/plain": [
       "3.0"
      ]
     },
     "execution_count": 50,
     "metadata": {},
     "output_type": "execute_result"
    }
   ],
   "source": [
    "cuberoot(27)"
   ]
  },
  {
   "cell_type": "markdown",
   "id": "cc09913b",
   "metadata": {},
   "source": [
    "# Q4. Write a program to create a function that prints a sequence of numbers which starts, stops and increments as the user specifies. The output should include both the first and last values"
   ]
  },
  {
   "cell_type": "code",
   "execution_count": 51,
   "id": "77704131",
   "metadata": {},
   "outputs": [],
   "source": [
    "def my_range_function(start,stop,step):\n",
    "    while start <= stop:\n",
    "        print(start)\n",
    "        start += step"
   ]
  },
  {
   "cell_type": "code",
   "execution_count": 52,
   "id": "0227de8d",
   "metadata": {},
   "outputs": [
    {
     "name": "stdout",
     "output_type": "stream",
     "text": [
      "100\n",
      "150\n",
      "200\n",
      "250\n",
      "300\n",
      "350\n",
      "400\n",
      "450\n",
      "500\n"
     ]
    }
   ],
   "source": [
    "my_range_function(100,500,50)"
   ]
  },
  {
   "cell_type": "markdown",
   "id": "6a9950ee",
   "metadata": {},
   "source": [
    "# Q5. Write a program to create a simple calculator using a function."
   ]
  },
  {
   "cell_type": "code",
   "execution_count": 54,
   "id": "44915118",
   "metadata": {},
   "outputs": [],
   "source": [
    "def calculator():\n",
    "    while True:\n",
    "        operation = input(\"Choose your operation:\\n\\n Add : +\\n Subtract: - \\n Multiply: * \\n Divide: / \\n Power: ^ \\n\\n Press 'q' to quit\\n\\n\")\n",
    "        if operation == 'q':\n",
    "            break\n",
    "        elif operation not in ['+','-','*','/','^']:\n",
    "            print('Invalid Operation !!')\n",
    "            break\n",
    "        else:\n",
    "            first_number=int(input('Enter your first number: '))\n",
    "            second_number=int(input('Enter your second number: '))\n",
    "            if operation == '+':\n",
    "                print('\\n\\nThe result is:',first_number + second_number)\n",
    "            elif operation == '-':\n",
    "                print('\\n\\nThe result is:',first_number - second_number) \n",
    "            elif operation == '*':\n",
    "                print('\\n\\nThe result is:',first_number * second_number) \n",
    "            elif operation == '/':\n",
    "                print('\\n\\nThe result is:',first_number / second_number) \n",
    "            elif operation == '^':\n",
    "                print('\\n\\nThe result is:',first_number **second_number) \n",
    "                "
   ]
  },
  {
   "cell_type": "code",
   "execution_count": 55,
   "id": "4d4c05e1",
   "metadata": {},
   "outputs": [
    {
     "name": "stdout",
     "output_type": "stream",
     "text": [
      "Choose your operation:\n",
      "\n",
      " Add : +\n",
      " Subtract: - \n",
      " Multiply: * \n",
      " Divide: / \n",
      " Power: ^ \n",
      "\n",
      " Press 'q' to quit\n",
      "\n",
      "+\n",
      "Enter your first number: 23\n",
      "Enter your second number: 24\n",
      "\n",
      "\n",
      "The result is: 47\n",
      "Choose your operation:\n",
      "\n",
      " Add : +\n",
      " Subtract: - \n",
      " Multiply: * \n",
      " Divide: / \n",
      " Power: ^ \n",
      "\n",
      " Press 'q' to quit\n",
      "\n",
      "-\n",
      "Enter your first number: 5\n",
      "Enter your second number: 2\n",
      "\n",
      "\n",
      "The result is: 3\n",
      "Choose your operation:\n",
      "\n",
      " Add : +\n",
      " Subtract: - \n",
      " Multiply: * \n",
      " Divide: / \n",
      " Power: ^ \n",
      "\n",
      " Press 'q' to quit\n",
      "\n",
      "*\n",
      "Enter your first number: 45\n",
      "Enter your second number: 2\n",
      "\n",
      "\n",
      "The result is: 90\n",
      "Choose your operation:\n",
      "\n",
      " Add : +\n",
      " Subtract: - \n",
      " Multiply: * \n",
      " Divide: / \n",
      " Power: ^ \n",
      "\n",
      " Press 'q' to quit\n",
      "\n",
      "/\n",
      "Enter your first number: 90\n",
      "Enter your second number: 15\n",
      "\n",
      "\n",
      "The result is: 6.0\n",
      "Choose your operation:\n",
      "\n",
      " Add : +\n",
      " Subtract: - \n",
      " Multiply: * \n",
      " Divide: / \n",
      " Power: ^ \n",
      "\n",
      " Press 'q' to quit\n",
      "\n",
      "^\n",
      "Enter your first number: 4\n",
      "Enter your second number: 4\n",
      "\n",
      "\n",
      "The result is: 256\n",
      "Choose your operation:\n",
      "\n",
      " Add : +\n",
      " Subtract: - \n",
      " Multiply: * \n",
      " Divide: / \n",
      " Power: ^ \n",
      "\n",
      " Press 'q' to quit\n",
      "\n",
      "q\n"
     ]
    }
   ],
   "source": [
    "calculator()"
   ]
  },
  {
   "cell_type": "markdown",
   "id": "bb33ab3d",
   "metadata": {},
   "source": [
    "# Python Filter Function"
   ]
  },
  {
   "cell_type": "markdown",
   "id": "bdfae468",
   "metadata": {},
   "source": [
    "# Q1. Consider the list of ages below, print the age only if it is above 18 using the filter function."
   ]
  },
  {
   "cell_type": "code",
   "execution_count": 1,
   "id": "da2dc7bd",
   "metadata": {},
   "outputs": [],
   "source": [
    "ages = [5,12,17,18,24,32]"
   ]
  },
  {
   "cell_type": "markdown",
   "id": "3d05c4b6",
   "metadata": {},
   "source": [
    "# Solution1"
   ]
  },
  {
   "cell_type": "code",
   "execution_count": 2,
   "id": "64f59ceb",
   "metadata": {},
   "outputs": [
    {
     "data": {
      "text/plain": [
       "[18, 24, 32]"
      ]
     },
     "execution_count": 2,
     "metadata": {},
     "output_type": "execute_result"
    }
   ],
   "source": [
    "def ages_above_18(x):\n",
    "    if x >= 18:\n",
    "        return True\n",
    "    else:\n",
    "        return False\n",
    "list(filter(ages_above_18,ages))"
   ]
  },
  {
   "cell_type": "code",
   "execution_count": 13,
   "id": "4f0e393e",
   "metadata": {},
   "outputs": [],
   "source": [
    "ages1=[2,4,6,8,10,11,12,18]"
   ]
  },
  {
   "cell_type": "code",
   "execution_count": 15,
   "id": "3945b6a5",
   "metadata": {},
   "outputs": [
    {
     "name": "stdout",
     "output_type": "stream",
     "text": [
      "Enter a age: 18\n"
     ]
    },
    {
     "data": {
      "text/plain": [
       "[18]"
      ]
     },
     "execution_count": 15,
     "metadata": {},
     "output_type": "execute_result"
    }
   ],
   "source": [
    "a=int(input(\"Enter a age: \"))\n",
    "def ages1_above_18(x):\n",
    "    if x>= 18:\n",
    "        return True\n",
    "    else:\n",
    "        return False\n",
    "list(filter(ages1_above_18,ages1))\n",
    "print()"
   ]
  },
  {
   "cell_type": "markdown",
   "id": "96e6f2d8",
   "metadata": {},
   "source": [
    "# Solution2"
   ]
  },
  {
   "cell_type": "code",
   "execution_count": 16,
   "id": "14dd95a2",
   "metadata": {},
   "outputs": [
    {
     "data": {
      "text/plain": [
       "[18, 24, 32]"
      ]
     },
     "execution_count": 16,
     "metadata": {},
     "output_type": "execute_result"
    }
   ],
   "source": [
    "list(filter(lambda x: x>= 18, ages))"
   ]
  },
  {
   "cell_type": "markdown",
   "id": "f9b4634b",
   "metadata": {},
   "source": [
    "# Q2. Write a Python program to count the even and odd numbers in a given list of integers using the filter function."
   ]
  },
  {
   "cell_type": "code",
   "execution_count": 27,
   "id": "13e03024",
   "metadata": {},
   "outputs": [],
   "source": [
    "list_of_integers =[x for x in range(47251)]"
   ]
  },
  {
   "cell_type": "markdown",
   "id": "c54a8dc6",
   "metadata": {},
   "source": [
    "# solution"
   ]
  },
  {
   "cell_type": "code",
   "execution_count": 28,
   "id": "10806c28",
   "metadata": {},
   "outputs": [
    {
     "name": "stdout",
     "output_type": "stream",
     "text": [
      "There are 23625 odd and 23626 even numbers in the list.\n"
     ]
    }
   ],
   "source": [
    "def odd_even_counter(array):\n",
    "    odds = len(list(filter(lambda x: (x%2 !=0), array)))\n",
    "    evens = len(list(filter(lambda x: (x%2 ==0), array)))\n",
    "    print(f'There are {odds} odd and {evens} even numbers in the list.')\n",
    "odd_even_counter(list_of_integers)"
   ]
  },
  {
   "cell_type": "markdown",
   "id": "bd4bc51a",
   "metadata": {},
   "source": [
    "# Q3. Write a Python program to find the intersection of two given lists using the filter function."
   ]
  },
  {
   "cell_type": "code",
   "execution_count": 29,
   "id": "8eae67f4",
   "metadata": {},
   "outputs": [],
   "source": [
    "list1 = [1, 2, 3, 5, 7, 8, 9, 10]\n",
    "list2 = [1, 2, 4, 8, 9]"
   ]
  },
  {
   "cell_type": "code",
   "execution_count": 31,
   "id": "f3aa6541",
   "metadata": {},
   "outputs": [
    {
     "data": {
      "text/plain": [
       "[1, 2, 8, 9]"
      ]
     },
     "execution_count": 31,
     "metadata": {},
     "output_type": "execute_result"
    }
   ],
   "source": [
    "list(filter(lambda x: x in list1, list2))"
   ]
  },
  {
   "cell_type": "markdown",
   "id": "c62af0a6",
   "metadata": {},
   "source": [
    "# Q4. Consider the following Dictionary which contains height (in feet) and weight (in kgs), filter the the people who are more than 6 feet tall and weighs more than 65 Kgs"
   ]
  },
  {
   "cell_type": "code",
   "execution_count": 32,
   "id": "57096d12",
   "metadata": {},
   "outputs": [],
   "source": [
    "students = {\n",
    "    'Cierra Vega': (6.2, 70), \n",
    "    'Alden Cantrell': (5.9, 65), \n",
    "    'Kierra Gentry': (6.0, 68), \n",
    "    'Pierre Cox': (5.8, 66)\n",
    "}"
   ]
  },
  {
   "cell_type": "code",
   "execution_count": 36,
   "id": "705c575d",
   "metadata": {},
   "outputs": [
    {
     "data": {
      "text/plain": [
       "{'Cierra Vega': (6.2, 70), 'Kierra Gentry': (6.0, 68)}"
      ]
     },
     "execution_count": 36,
     "metadata": {},
     "output_type": "execute_result"
    }
   ],
   "source": [
    "dict(filter(lambda x: (x[1][0], x[1][1]) >= (6.0, 65), students.items()))  # students.items( ) is giving all the items of the dictionary in key value pairs"
   ]
  },
  {
   "cell_type": "markdown",
   "id": "6873b0d6",
   "metadata": {},
   "source": [
    "# Q5. Write a Python program to create the next bigger number by rearranging the digits of a user specified number. (For example: the user inputs 102, the program should rearrange 1, 0, and 2 in such a way to get the next bigger number. In this case, 201"
   ]
  },
  {
   "cell_type": "code",
   "execution_count": 41,
   "id": "10b7ec87",
   "metadata": {},
   "outputs": [
    {
     "name": "stdout",
     "output_type": "stream",
     "text": [
      "Enter a two digit number: 5778\n"
     ]
    },
    {
     "data": {
      "text/plain": [
       "5787"
      ]
     },
     "execution_count": 41,
     "metadata": {},
     "output_type": "execute_result"
    }
   ],
   "source": [
    "def rearrange_digits():\n",
    "    n = int(input(\"Enter a two digit number: \"))\n",
    "    nums = list(str(n))\n",
    "    for i in range(len(nums)-2,-1,-1):\n",
    "        if nums[1] < nums[i+1]:\n",
    "            z= nums[i:]\n",
    "            y= min(filter(lambda x: x>z[0],z))\n",
    "            z.remove(y)\n",
    "            z.sort()\n",
    "            nums[i:] = [y]+z\n",
    "            return int(\"\".join(nums))\n",
    "rearrange_digits()"
   ]
  },
  {
   "cell_type": "markdown",
   "id": "6a778ab6",
   "metadata": {},
   "source": [
    "# Lambda Function"
   ]
  },
  {
   "cell_type": "code",
   "execution_count": 1,
   "id": "9603ecb5",
   "metadata": {},
   "outputs": [
    {
     "data": {
      "text/plain": [
       "20"
      ]
     },
     "execution_count": 1,
     "metadata": {},
     "output_type": "execute_result"
    }
   ],
   "source": [
    "def myfunc(n):\n",
    "    return lambda a : a * n\n",
    "\n",
    "mydoubler = myfunc(2)\n",
    "\n",
    "mydoubler(10)"
   ]
  },
  {
   "cell_type": "markdown",
   "id": "48eb50e2",
   "metadata": {},
   "source": [
    "# Q1. Create a simple lambda function that returns multiplication of three numbers"
   ]
  },
  {
   "cell_type": "code",
   "execution_count": 2,
   "id": "895aeee2",
   "metadata": {},
   "outputs": [
    {
     "data": {
      "text/plain": [
       "64"
      ]
     },
     "execution_count": 2,
     "metadata": {},
     "output_type": "execute_result"
    }
   ],
   "source": [
    "additional_of_numbers=lambda x,y,z : x*y*z\n",
    "additional_of_numbers(4,4,4)"
   ]
  },
  {
   "cell_type": "markdown",
   "id": "28656343",
   "metadata": {},
   "source": [
    "# Q2. Write a Python program to sort a given list of tuples from highest to lowest marks using the lambda function."
   ]
  },
  {
   "cell_type": "code",
   "execution_count": 3,
   "id": "129cf37e",
   "metadata": {},
   "outputs": [
    {
     "data": {
      "text/plain": [
       "[('R', 88), ('Python', 90), ('C++', 97), ('Java', 82)]"
      ]
     },
     "execution_count": 3,
     "metadata": {},
     "output_type": "execute_result"
    }
   ],
   "source": [
    "marks = [('R',88),('Python',90),('C++',97),('Java',82)]\n",
    "marks"
   ]
  },
  {
   "cell_type": "markdown",
   "id": "0031dd7f",
   "metadata": {},
   "source": [
    "Solution"
   ]
  },
  {
   "cell_type": "code",
   "execution_count": 6,
   "id": "1bd1d818",
   "metadata": {},
   "outputs": [
    {
     "data": {
      "text/plain": [
       "[('C++', 97), ('Python', 90), ('R', 88), ('Java', 82)]"
      ]
     },
     "execution_count": 6,
     "metadata": {},
     "output_type": "execute_result"
    }
   ],
   "source": [
    "lam_fun  = lambda x: x[1]\n",
    "sorted(marks,key = lam_fun,reverse=True)"
   ]
  },
  {
   "cell_type": "markdown",
   "id": "5880b170",
   "metadata": {},
   "source": [
    "# Q3. Write a Python program to sort a given list by the length of lists inside it using the lambda function"
   ]
  },
  {
   "cell_type": "code",
   "execution_count": 20,
   "id": "4b68ec6a",
   "metadata": {},
   "outputs": [
    {
     "data": {
      "text/plain": [
       "[[2], [3, 1], [0, 7], [0], [9, 11], [13, 15, 17, 20], [9, 11, 10], [5, 6]]"
      ]
     },
     "execution_count": 20,
     "metadata": {},
     "output_type": "execute_result"
    }
   ],
   "source": [
    "diff_len_lists =[[2],[3,1],[0,7],[0],[9,11],[13,15,17,20],[9,11,10],[5,6]]\n",
    "diff_len_lists"
   ]
  },
  {
   "cell_type": "markdown",
   "id": "70857191",
   "metadata": {},
   "source": [
    "Solution"
   ]
  },
  {
   "cell_type": "code",
   "execution_count": 21,
   "id": "ad70030d",
   "metadata": {},
   "outputs": [
    {
     "data": {
      "text/plain": [
       "[[2], [0], [3, 1], [0, 7], [9, 11], [5, 6], [9, 11, 10], [13, 15, 17, 20]]"
      ]
     },
     "execution_count": 21,
     "metadata": {},
     "output_type": "execute_result"
    }
   ],
   "source": [
    "sorting_by_len_func = lambda a: len(a)\n",
    "\n",
    "sorted(diff_len_lists, key = sorting_by_len_func)"
   ]
  },
  {
   "cell_type": "markdown",
   "id": "94b85089",
   "metadata": {},
   "source": [
    "# Q4. Sort the given list of dictionaries on the basis of area key (highest to lowest) using the lambda function"
   ]
  },
  {
   "cell_type": "code",
   "execution_count": 23,
   "id": "d74bb261",
   "metadata": {},
   "outputs": [],
   "source": [
    "cities = [{\n",
    "         \"name\":\"New York City\",\n",
    "          \"country\":\"United States\",\n",
    "          \"population\":20.14,\n",
    "          \"area\":1223.59\n",
    "    },\n",
    "    {\n",
    "          \"name\":\"Tokyo\",\n",
    "          \"country\":\"Japan\",\n",
    "          \"population\":37.47,\n",
    "          \"area\":2199.07,\n",
    "    },\n",
    "    {\n",
    "         \"name\":\"Los Angeles\",\n",
    "          \"country\":\"United States\",\n",
    "          \"population\":13.2,\n",
    "          \"area\":1299.01,\n",
    "    },\n",
    "    {\n",
    "         \"name\":\"Madrid\",\n",
    "          \"country\":\"Spain\",\n",
    "          \"population\":6.79,\n",
    "          \"area\":604.31,\n",
    "    },\n",
    "    {\n",
    "         \"name\":\"Osaka\",\n",
    "          \"country\":\"Japan\",\n",
    "          \"population\":19.3,\n",
    "          \"area\":5107.0,\n",
    "    },\n",
    "    {\n",
    "         \"name\":\"London\",\n",
    "          \"country\":\"United kingdom\",\n",
    "          \"population\":14.26,\n",
    "          \"area\":8382.0,\n",
    "    }\n",
    "]"
   ]
  },
  {
   "cell_type": "markdown",
   "id": "6ea3e03b",
   "metadata": {},
   "source": [
    "solution"
   ]
  },
  {
   "cell_type": "code",
   "execution_count": 27,
   "id": "2cdbd24f",
   "metadata": {},
   "outputs": [
    {
     "data": {
      "text/plain": [
       "[{'name': 'London',\n",
       "  'country': 'United kingdom',\n",
       "  'population': 14.26,\n",
       "  'area': 8382.0},\n",
       " {'name': 'Osaka', 'country': 'Japan', 'population': 19.3, 'area': 5107.0},\n",
       " {'name': 'Tokyo', 'country': 'Japan', 'population': 37.47, 'area': 2199.07},\n",
       " {'name': 'Los Angeles',\n",
       "  'country': 'United States',\n",
       "  'population': 13.2,\n",
       "  'area': 1299.01},\n",
       " {'name': 'New York City',\n",
       "  'country': 'United States',\n",
       "  'population': 20.14,\n",
       "  'area': 1223.59},\n",
       " {'name': 'Madrid', 'country': 'Spain', 'population': 6.79, 'area': 604.31}]"
      ]
     },
     "execution_count": 27,
     "metadata": {},
     "output_type": "execute_result"
    }
   ],
   "source": [
    "sorting_using_key=lambda x: x['area']\n",
    "sorted(cities,key =sorting_using_key,reverse=True)"
   ]
  },
  {
   "cell_type": "markdown",
   "id": "f80b2528",
   "metadata": {},
   "source": [
    "# Q5. Write a python program to find a list with the highest number of elements from the given list of lists using lambda function."
   ]
  },
  {
   "cell_type": "code",
   "execution_count": 28,
   "id": "164d0161",
   "metadata": {},
   "outputs": [
    {
     "data": {
      "text/plain": [
       "[[2], [3, 1], [0, 7], [0], [9, 11], [13, 15, 17, 20], [9, 11, 10], [5, 6]]"
      ]
     },
     "execution_count": 28,
     "metadata": {},
     "output_type": "execute_result"
    }
   ],
   "source": [
    "diff_len_lists = [[2],[3,1],[0,7],[0],[9,11],[13,15,17,20],[9,11,10],[5,6]]\n",
    "diff_len_list"
   ]
  },
  {
   "cell_type": "markdown",
   "id": "3a927d54",
   "metadata": {},
   "source": [
    "Solution"
   ]
  },
  {
   "cell_type": "code",
   "execution_count": 29,
   "id": "8d78a26e",
   "metadata": {},
   "outputs": [
    {
     "data": {
      "text/plain": [
       "[13, 15, 17, 20]"
      ]
     },
     "execution_count": 29,
     "metadata": {},
     "output_type": "execute_result"
    }
   ],
   "source": [
    "max(diff_len_lists,key=lambda x: len(x))"
   ]
  },
  {
   "cell_type": "markdown",
   "id": "b19e02f6",
   "metadata": {},
   "source": [
    "# Python map()function"
   ]
  },
  {
   "cell_type": "markdown",
   "id": "aa7117d8",
   "metadata": {},
   "source": [
    "# Q1. Consider the following list, write a program to find the length of every element in the given list."
   ]
  },
  {
   "cell_type": "code",
   "execution_count": 30,
   "id": "73182dc7",
   "metadata": {},
   "outputs": [
    {
     "data": {
      "text/plain": [
       "['Apple', 'Banana', 'Cherry', 'Orange', 'kiwi', 'Papaya', 'Pineapple', 'Grap']"
      ]
     },
     "execution_count": 30,
     "metadata": {},
     "output_type": "execute_result"
    }
   ],
   "source": [
    "fruits =['Apple','Banana','Cherry','Orange','kiwi','Papaya','Pineapple','Grap']\n",
    "fruits"
   ]
  },
  {
   "cell_type": "code",
   "execution_count": 31,
   "id": "80eb7f3b",
   "metadata": {},
   "outputs": [
    {
     "data": {
      "text/plain": [
       "[5, 6, 6, 6, 4, 6, 9, 4]"
      ]
     },
     "execution_count": 31,
     "metadata": {},
     "output_type": "execute_result"
    }
   ],
   "source": [
    "list(map(lambda x: len(x),fruits))"
   ]
  },
  {
   "cell_type": "markdown",
   "id": "155bf942",
   "metadata": {},
   "source": [
    "# Q2. Write a Python program to square the elements of the given list using the map() function"
   ]
  },
  {
   "cell_type": "code",
   "execution_count": 32,
   "id": "a46e6711",
   "metadata": {},
   "outputs": [
    {
     "data": {
      "text/plain": [
       "[12, 33, 23, 10, 11, 67, 89, 45, 66.7, 23, 12, 11, 10.25, 54]"
      ]
     },
     "execution_count": 32,
     "metadata": {},
     "output_type": "execute_result"
    }
   ],
   "source": [
    "integers = [12,33,23,10,11,67,89,45,66.7,23,12,11,10.25,54]\n",
    "integers"
   ]
  },
  {
   "cell_type": "code",
   "execution_count": 33,
   "id": "91e12cfc",
   "metadata": {},
   "outputs": [
    {
     "name": "stdout",
     "output_type": "stream",
     "text": [
      "[144, 1089, 529, 100, 121, 4489, 7921, 2025, 4448.89, 529, 144, 121, 105.0625, 2916]\n"
     ]
    }
   ],
   "source": [
    "squared_integers=list(map(lambda a: a**2,integers))\n",
    "print(squared_integers)"
   ]
  },
  {
   "cell_type": "markdown",
   "id": "91a94835",
   "metadata": {},
   "source": [
    "# Q3. Consider the two given lists, multiply the lists element wise using the map() function."
   ]
  },
  {
   "cell_type": "code",
   "execution_count": 34,
   "id": "6e5f0ecb",
   "metadata": {},
   "outputs": [],
   "source": [
    "n_1 =[1,2,3,4,5,6,7,8]\n",
    "n_2 =[2,2,3,1,2,6,7,9]"
   ]
  },
  {
   "cell_type": "code",
   "execution_count": 35,
   "id": "f85e0950",
   "metadata": {},
   "outputs": [
    {
     "data": {
      "text/plain": [
       "[2, 4, 9, 4, 10, 36, 49, 72]"
      ]
     },
     "execution_count": 35,
     "metadata": {},
     "output_type": "execute_result"
    }
   ],
   "source": [
    "list(map(lambda x,y:x*y,n_1,n_2))"
   ]
  },
  {
   "cell_type": "markdown",
   "id": "6a122ea3",
   "metadata": {},
   "source": [
    "# Q4. Write a Python program to convert a given list of tuples to a list of strings using the map function"
   ]
  },
  {
   "cell_type": "code",
   "execution_count": 36,
   "id": "650e8cc9",
   "metadata": {},
   "outputs": [],
   "source": [
    "colors = [('red','pink'),('white','black'),('orange','green')]"
   ]
  },
  {
   "cell_type": "code",
   "execution_count": 37,
   "id": "e110bdf5",
   "metadata": {},
   "outputs": [
    {
     "data": {
      "text/plain": [
       "['redpink', 'whiteblack', 'orangegreen']"
      ]
     },
     "execution_count": 37,
     "metadata": {},
     "output_type": "execute_result"
    }
   ],
   "source": [
    "list(map(''.join,colors))"
   ]
  },
  {
   "cell_type": "markdown",
   "id": "ad1ab570",
   "metadata": {},
   "source": [
    "# Q5. Write a Python program to convert a given dictionary of lists to a list of dictionaries using the map function"
   ]
  },
  {
   "cell_type": "code",
   "execution_count": 38,
   "id": "793f1129",
   "metadata": {},
   "outputs": [
    {
     "data": {
      "text/plain": [
       "{'Science': [88, 89, 62, 95], 'Language': [77, 78, 84, 80]}"
      ]
     },
     "execution_count": 38,
     "metadata": {},
     "output_type": "execute_result"
    }
   ],
   "source": [
    "marks = {'Science': [88, 89, 62, 95], 'Language': [77, 78, 84, 80]}\n",
    "marks"
   ]
  },
  {
   "cell_type": "code",
   "execution_count": 39,
   "id": "9d84cd2d",
   "metadata": {},
   "outputs": [
    {
     "data": {
      "text/plain": [
       "[{'Science': 88, 'Language': 77},\n",
       " {'Science': 89, 'Language': 78},\n",
       " {'Science': 62, 'Language': 84},\n",
       " {'Science': 95, 'Language': 80}]"
      ]
     },
     "execution_count": 39,
     "metadata": {},
     "output_type": "execute_result"
    }
   ],
   "source": [
    "list(map(dict, zip(*[[(key, val) for val in value] for key, value in marks.items()])))"
   ]
  },
  {
   "cell_type": "markdown",
   "id": "1b7ec52b",
   "metadata": {},
   "source": [
    "# Inheritance"
   ]
  },
  {
   "cell_type": "markdown",
   "id": "f6c9e0ab",
   "metadata": {},
   "source": [
    "# Q1. Inherit the properties of a given python class in a new child class named Student."
   ]
  },
  {
   "cell_type": "code",
   "execution_count": 1,
   "id": "1cee8905",
   "metadata": {},
   "outputs": [
    {
     "name": "stdout",
     "output_type": "stream",
     "text": [
      "John Doe\n"
     ]
    }
   ],
   "source": [
    "class Person:\n",
    "    def __init__(self, fname, lname):\n",
    "        self.firstname = fname\n",
    "        self.lastname = lname\n",
    "\n",
    "    def name(self):\n",
    "        print(self.firstname, self.lastname)\n",
    "\n",
    "person = Person(\"John\", \"Doe\")\n",
    "person.name()"
   ]
  },
  {
   "cell_type": "code",
   "execution_count": 2,
   "id": "c778d21b",
   "metadata": {},
   "outputs": [
    {
     "name": "stdout",
     "output_type": "stream",
     "text": [
      "Harry Potter\n"
     ]
    }
   ],
   "source": [
    "class student(Person):\n",
    "    pass\n",
    "student=student(\"Harry\",\"Potter\")\n",
    "student.name()"
   ]
  },
  {
   "cell_type": "markdown",
   "id": "7aea6dd7",
   "metadata": {},
   "source": [
    "# Q2. Consider the given class Calculator. Use inheritance to include the divide and power functions to it"
   ]
  },
  {
   "cell_type": "code",
   "execution_count": 3,
   "id": "8bb74d34",
   "metadata": {},
   "outputs": [],
   "source": [
    "class Calculator:\n",
    "    def __init__(self, number1, number2):\n",
    "        self.number1 = number1\n",
    "        self.number2 = number2\n",
    "        \n",
    "    def add(self):\n",
    "        return self.number1 + self.number2\n",
    "\n",
    "    def sub(self):\n",
    "        return self.number1 - self.number2\n",
    "\n",
    "    def mul(self):\n",
    "        return self.number1 * self.number2"
   ]
  },
  {
   "cell_type": "code",
   "execution_count": 9,
   "id": "929ad7e4",
   "metadata": {},
   "outputs": [
    {
     "name": "stdout",
     "output_type": "stream",
     "text": [
      "22\n",
      "18\n",
      "40\n",
      "10.0\n",
      "400\n"
     ]
    }
   ],
   "source": [
    "class Operators(Calculator):\n",
    "    def __init__(self,number1,number2):\n",
    "        super().__init__(number1,number2)\n",
    "    def div(self):\n",
    "        return self.number1 / self.number2\n",
    "    def power(self):\n",
    "        return self.number1 ** self.number2\n",
    "math = Operators(20,2)\n",
    "print(math.add())\n",
    "print(math.sub())\n",
    "print(math.mul())\n",
    "print(math.div())\n",
    "print(math.power())"
   ]
  },
  {
   "cell_type": "markdown",
   "id": "de3f8c4b",
   "metadata": {},
   "source": [
    "# Q3. Create a subclass `Vehicle` that gives vehicle info from the given base class `Taxi`."
   ]
  },
  {
   "cell_type": "code",
   "execution_count": 10,
   "id": "0ba52f55",
   "metadata": {},
   "outputs": [],
   "source": [
    "class Taxi:\n",
    "    def __init__(self, model, capacity, variant):\n",
    "        self.model = model   \n",
    "        self.capacity = capacity\n",
    "        self.variant = variant\n",
    "\n",
    "    def getmodel(self):          \n",
    "        return self.model\n",
    "\n",
    "    def getcapacity(self):        \n",
    "        return self.capacity\n",
    "\n",
    "    def setcapacity(self, capacity): \n",
    "        self.capacity = capacity\n",
    "\n",
    "    def getvariant(self):        \n",
    "        return self.variant\n",
    "\n",
    "    def setvariant(self, variant):  \n",
    "        self.variant = variant"
   ]
  },
  {
   "cell_type": "code",
   "execution_count": 13,
   "id": "f6cfb3bd",
   "metadata": {},
   "outputs": [
    {
     "name": "stdout",
     "output_type": "stream",
     "text": [
      "i20 Active SX in Bronzewith4Seats\n",
      "i20 Active\n"
     ]
    }
   ],
   "source": [
    "class Vehicle(Taxi):\n",
    "    def __init__(self,model,capacity,variant,color):\n",
    "        super().__init__(model,capacity,variant)\n",
    "        self.color = color\n",
    "    def vehicleinfo(self):\n",
    "        return self.getmodel() + \" \" + self.getvariant() + \" in \" +self.color + \"with\" +self.getcapacity() + \"Seats\"\n",
    "v1 = Vehicle(\"i20 Active\", \"4\", \"SX\", \"Bronze\" )\n",
    "print(v1.vehicleinfo())\n",
    "print(v1.getmodel())"
   ]
  },
  {
   "cell_type": "code",
   "execution_count": 14,
   "id": "111113e9",
   "metadata": {},
   "outputs": [
    {
     "name": "stdout",
     "output_type": "stream",
     "text": [
      "Fortuner MT2755 in Whitewith7Seats\n",
      "8\n",
      "Fortuner MT2755 in Whitewith8Seats\n"
     ]
    }
   ],
   "source": [
    "v2 = Vehicle(\"Fortuner\", \"7\", \"MT2755\", \"White\")\n",
    "print(v2.vehicleinfo())\n",
    "\n",
    "v2.setcapacity('8')\n",
    "\n",
    "print(v2.getcapacity())\n",
    "print(v2.vehicleinfo())"
   ]
  },
  {
   "cell_type": "code",
   "execution_count": null,
   "id": "7b1c7b65",
   "metadata": {},
   "outputs": [],
   "source": []
  },
  {
   "cell_type": "code",
   "execution_count": null,
   "id": "8eee6f81",
   "metadata": {},
   "outputs": [],
   "source": []
  },
  {
   "cell_type": "code",
   "execution_count": null,
   "id": "29bf4f12",
   "metadata": {},
   "outputs": [],
   "source": []
  },
  {
   "cell_type": "code",
   "execution_count": null,
   "id": "4a6f41a7",
   "metadata": {},
   "outputs": [],
   "source": []
  },
  {
   "cell_type": "code",
   "execution_count": null,
   "id": "558cf204",
   "metadata": {},
   "outputs": [],
   "source": []
  },
  {
   "cell_type": "code",
   "execution_count": null,
   "id": "4828bb57",
   "metadata": {},
   "outputs": [],
   "source": []
  },
  {
   "cell_type": "code",
   "execution_count": null,
   "id": "9761849b",
   "metadata": {},
   "outputs": [],
   "source": []
  },
  {
   "cell_type": "code",
   "execution_count": null,
   "id": "52994dec",
   "metadata": {},
   "outputs": [],
   "source": []
  },
  {
   "cell_type": "code",
   "execution_count": null,
   "id": "af7585a5",
   "metadata": {},
   "outputs": [],
   "source": []
  },
  {
   "cell_type": "code",
   "execution_count": null,
   "id": "b7982886",
   "metadata": {},
   "outputs": [],
   "source": []
  },
  {
   "cell_type": "code",
   "execution_count": null,
   "id": "e0c7e6c2",
   "metadata": {},
   "outputs": [],
   "source": []
  },
  {
   "cell_type": "code",
   "execution_count": null,
   "id": "665d38cb",
   "metadata": {},
   "outputs": [],
   "source": []
  },
  {
   "cell_type": "code",
   "execution_count": null,
   "id": "6ec4fc2d",
   "metadata": {},
   "outputs": [],
   "source": []
  },
  {
   "cell_type": "code",
   "execution_count": null,
   "id": "65a6a169",
   "metadata": {},
   "outputs": [],
   "source": []
  },
  {
   "cell_type": "code",
   "execution_count": null,
   "id": "2dc05f47",
   "metadata": {},
   "outputs": [],
   "source": []
  },
  {
   "cell_type": "code",
   "execution_count": null,
   "id": "9ebaa29f",
   "metadata": {},
   "outputs": [],
   "source": []
  },
  {
   "cell_type": "code",
   "execution_count": null,
   "id": "73cbffd0",
   "metadata": {},
   "outputs": [],
   "source": []
  },
  {
   "cell_type": "code",
   "execution_count": null,
   "id": "58879f6f",
   "metadata": {},
   "outputs": [],
   "source": []
  },
  {
   "cell_type": "code",
   "execution_count": null,
   "id": "aac6264f",
   "metadata": {},
   "outputs": [],
   "source": []
  },
  {
   "cell_type": "code",
   "execution_count": null,
   "id": "f33b77a5",
   "metadata": {},
   "outputs": [],
   "source": []
  },
  {
   "cell_type": "code",
   "execution_count": null,
   "id": "b10e4f7e",
   "metadata": {},
   "outputs": [],
   "source": []
  },
  {
   "cell_type": "code",
   "execution_count": null,
   "id": "081d3cb1",
   "metadata": {},
   "outputs": [],
   "source": []
  },
  {
   "cell_type": "code",
   "execution_count": null,
   "id": "e8e1dbc3",
   "metadata": {},
   "outputs": [],
   "source": []
  },
  {
   "cell_type": "code",
   "execution_count": null,
   "id": "edc64997",
   "metadata": {},
   "outputs": [],
   "source": []
  },
  {
   "cell_type": "code",
   "execution_count": null,
   "id": "b7f5136d",
   "metadata": {},
   "outputs": [],
   "source": []
  },
  {
   "cell_type": "code",
   "execution_count": null,
   "id": "6d26b755",
   "metadata": {},
   "outputs": [],
   "source": []
  },
  {
   "cell_type": "code",
   "execution_count": null,
   "id": "f7e0c0fc",
   "metadata": {},
   "outputs": [],
   "source": []
  },
  {
   "cell_type": "code",
   "execution_count": null,
   "id": "c01ed778",
   "metadata": {},
   "outputs": [],
   "source": []
  },
  {
   "cell_type": "code",
   "execution_count": null,
   "id": "624f3c1b",
   "metadata": {},
   "outputs": [],
   "source": []
  },
  {
   "cell_type": "code",
   "execution_count": null,
   "id": "91f14273",
   "metadata": {},
   "outputs": [],
   "source": []
  },
  {
   "cell_type": "code",
   "execution_count": null,
   "id": "960cd0a5",
   "metadata": {},
   "outputs": [],
   "source": []
  },
  {
   "cell_type": "code",
   "execution_count": null,
   "id": "a9f50d0a",
   "metadata": {},
   "outputs": [],
   "source": []
  },
  {
   "cell_type": "code",
   "execution_count": null,
   "id": "a52bf0ce",
   "metadata": {},
   "outputs": [],
   "source": []
  },
  {
   "cell_type": "code",
   "execution_count": null,
   "id": "8fa2db9c",
   "metadata": {},
   "outputs": [],
   "source": []
  },
  {
   "cell_type": "code",
   "execution_count": null,
   "id": "ebc0b2d0",
   "metadata": {},
   "outputs": [],
   "source": []
  },
  {
   "cell_type": "code",
   "execution_count": null,
   "id": "7e18669c",
   "metadata": {},
   "outputs": [],
   "source": []
  },
  {
   "cell_type": "code",
   "execution_count": null,
   "id": "6ed739fc",
   "metadata": {},
   "outputs": [],
   "source": []
  },
  {
   "cell_type": "code",
   "execution_count": null,
   "id": "4f132578",
   "metadata": {},
   "outputs": [],
   "source": []
  },
  {
   "cell_type": "code",
   "execution_count": null,
   "id": "56ca92d4",
   "metadata": {},
   "outputs": [],
   "source": []
  },
  {
   "cell_type": "code",
   "execution_count": null,
   "id": "f8bd3d1b",
   "metadata": {},
   "outputs": [],
   "source": []
  },
  {
   "cell_type": "code",
   "execution_count": null,
   "id": "35f1b1f6",
   "metadata": {},
   "outputs": [],
   "source": []
  },
  {
   "cell_type": "code",
   "execution_count": null,
   "id": "131ba115",
   "metadata": {},
   "outputs": [],
   "source": []
  },
  {
   "cell_type": "code",
   "execution_count": null,
   "id": "ee6acd5b",
   "metadata": {},
   "outputs": [],
   "source": []
  },
  {
   "cell_type": "code",
   "execution_count": null,
   "id": "42a87a93",
   "metadata": {},
   "outputs": [],
   "source": [
    "''"
   ]
  },
  {
   "cell_type": "code",
   "execution_count": null,
   "id": "af59e359",
   "metadata": {},
   "outputs": [],
   "source": []
  },
  {
   "cell_type": "code",
   "execution_count": null,
   "id": "97eefd2c",
   "metadata": {},
   "outputs": [],
   "source": []
  },
  {
   "cell_type": "code",
   "execution_count": null,
   "id": "74dddaaa",
   "metadata": {},
   "outputs": [],
   "source": []
  },
  {
   "cell_type": "code",
   "execution_count": null,
   "id": "f4ed33e2",
   "metadata": {},
   "outputs": [],
   "source": []
  },
  {
   "cell_type": "code",
   "execution_count": null,
   "id": "6dd510c2",
   "metadata": {},
   "outputs": [],
   "source": []
  },
  {
   "cell_type": "code",
   "execution_count": null,
   "id": "02a07ebe",
   "metadata": {},
   "outputs": [],
   "source": []
  }
 ],
 "metadata": {
  "celltoolbar": "Raw Cell Format",
  "kernelspec": {
   "display_name": "Python 3 (ipykernel)",
   "language": "python",
   "name": "python3"
  },
  "language_info": {
   "codemirror_mode": {
    "name": "ipython",
    "version": 3
   },
   "file_extension": ".py",
   "mimetype": "text/x-python",
   "name": "python",
   "nbconvert_exporter": "python",
   "pygments_lexer": "ipython3",
   "version": "3.9.7"
  }
 },
 "nbformat": 4,
 "nbformat_minor": 5
}
